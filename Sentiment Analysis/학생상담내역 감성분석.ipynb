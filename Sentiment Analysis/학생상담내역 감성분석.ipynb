{
 "cells": [
  {
   "cell_type": "code",
   "execution_count": 7,
   "id": "8c64ed33",
   "metadata": {},
   "outputs": [
    {
     "name": "stdout",
     "output_type": "stream",
     "text": [
      "Collecting nltkNote: you may need to restart the kernel to use updated packages.\n",
      "\n",
      "  Downloading nltk-3.8.1-py3-none-any.whl (1.5 MB)\n",
      "     ---------------------------------------- 1.5/1.5 MB 8.7 MB/s eta 0:00:00\n",
      "Requirement already satisfied: click in d:\\anacondo\\envs\\dev1\\lib\\site-packages (from nltk) (8.0.4)\n",
      "Collecting regex>=2021.8.3\n",
      "  Downloading regex-2022.10.31-cp37-cp37m-win_amd64.whl (268 kB)\n",
      "     ---------------------------------------- 268.0/268.0 kB ? eta 0:00:00\n",
      "Requirement already satisfied: joblib in d:\\anacondo\\envs\\dev1\\lib\\site-packages (from nltk) (1.2.0)\n",
      "Collecting tqdm\n",
      "  Downloading tqdm-4.65.0-py3-none-any.whl (77 kB)\n",
      "     ---------------------------------------- 77.1/77.1 kB ? eta 0:00:00\n",
      "Requirement already satisfied: colorama in d:\\anacondo\\envs\\dev1\\lib\\site-packages (from click->nltk) (0.4.6)\n",
      "Requirement already satisfied: importlib-metadata in d:\\anacondo\\envs\\dev1\\lib\\site-packages (from click->nltk) (4.11.3)\n",
      "Requirement already satisfied: zipp>=0.5 in d:\\anacondo\\envs\\dev1\\lib\\site-packages (from importlib-metadata->click->nltk) (3.11.0)\n",
      "Requirement already satisfied: typing-extensions>=3.6.4 in d:\\anacondo\\envs\\dev1\\lib\\site-packages (from importlib-metadata->click->nltk) (4.4.0)\n",
      "Installing collected packages: tqdm, regex, nltk\n",
      "Successfully installed nltk-3.8.1 regex-2022.10.31 tqdm-4.65.0\n"
     ]
    }
   ],
   "source": [
    "pip install nltk"
   ]
  },
  {
   "cell_type": "code",
   "execution_count": 8,
   "id": "aac1017a",
   "metadata": {},
   "outputs": [],
   "source": [
    "import nltk"
   ]
  },
  {
   "cell_type": "code",
   "execution_count": 9,
   "id": "607f0176",
   "metadata": {},
   "outputs": [
    {
     "name": "stderr",
     "output_type": "stream",
     "text": [
      "[nltk_data] Downloading package wordnet to\n",
      "[nltk_data]     C:\\Users\\lms_test01\\AppData\\Roaming\\nltk_data...\n"
     ]
    },
    {
     "data": {
      "text/plain": [
       "True"
      ]
     },
     "execution_count": 9,
     "metadata": {},
     "output_type": "execute_result"
    }
   ],
   "source": [
    "nltk.download('wordnet')"
   ]
  },
  {
   "cell_type": "code",
   "execution_count": 10,
   "id": "92a194b4",
   "metadata": {},
   "outputs": [],
   "source": [
    "from nltk.corpus import wordnet"
   ]
  },
  {
   "cell_type": "code",
   "execution_count": 12,
   "id": "c99c07e9",
   "metadata": {},
   "outputs": [
    {
     "name": "stdout",
     "output_type": "stream",
     "text": [
      "[]\n"
     ]
    }
   ],
   "source": [
    "print(wordnet.synsets('실망'))"
   ]
  },
  {
   "cell_type": "code",
   "execution_count": 25,
   "id": "f2ff1c95",
   "metadata": {},
   "outputs": [],
   "source": [
    "from konlpy.tag import Okt \n",
    "#한국어 처리에 좋음   sns 형태의 문장 분석\n",
    "from konlpy.tag import Kkma\n",
    "\n",
    "OKT -띄어쓰기가 문제 있을때 좋음\n",
    "메카 두개를 홈합하여 잘 사용함"
   ]
  },
  {
   "cell_type": "code",
   "execution_count": 22,
   "id": "ac04ca09",
   "metadata": {},
   "outputs": [
    {
     "name": "stdout",
     "output_type": "stream",
     "text": [
      "Requirement already satisfied: konlpy in d:\\anacondo\\envs\\dev1\\lib\\site-packages (0.6.0)\n",
      "Requirement already satisfied: JPype1>=0.7.0 in d:\\anacondo\\envs\\dev1\\lib\\site-packages (from konlpy) (1.4.1)\n",
      "Requirement already satisfied: lxml>=4.1.0 in d:\\anacondo\\envs\\dev1\\lib\\site-packages (from konlpy) (4.9.1)\n",
      "Requirement already satisfied: numpy>=1.6 in d:\\anacondo\\envs\\dev1\\lib\\site-packages (from konlpy) (1.21.5)\n",
      "Requirement already satisfied: typing-extensions in d:\\anacondo\\envs\\dev1\\lib\\site-packages (from JPype1>=0.7.0->konlpy) (4.4.0)\n",
      "Requirement already satisfied: packaging in d:\\anacondo\\envs\\dev1\\lib\\site-packages (from JPype1>=0.7.0->konlpy) (22.0)\n",
      "Note: you may need to restart the kernel to use updated packages.\n"
     ]
    }
   ],
   "source": [
    "pip install konlpy"
   ]
  },
  {
   "cell_type": "code",
   "execution_count": 29,
   "id": "d784f50b",
   "metadata": {},
   "outputs": [],
   "source": [
    "from konlpy.tag import Okt\n",
    "from konlpy.tag import Kkma\n"
   ]
  },
  {
   "cell_type": "code",
   "execution_count": 24,
   "id": "e56b9112",
   "metadata": {},
   "outputs": [
    {
     "name": "stdout",
     "output_type": "stream",
     "text": [
      "[('이', 'Noun'), ('밤', 'Noun'), ('그날', 'Noun'), ('의', 'Josa'), ('반딧불', 'Noun'), ('을', 'Josa'), ('당신', 'Noun'), ('의', 'Josa'), ('창', 'Noun'), ('가까이', 'Noun'), ('보낼게요', 'Verb')]\n"
     ]
    }
   ],
   "source": [
    "okt =Okt()\n",
    "print(okt.pos(u'이 밤 그날의 반딧불을 당신의 창 가까이 보낼게요'))"
   ]
  },
  {
   "cell_type": "code",
   "execution_count": 27,
   "id": "78a9fe52",
   "metadata": {},
   "outputs": [
    {
     "name": "stdout",
     "output_type": "stream",
     "text": [
      "[('이', 'MDT'), ('밤', 'NNG'), ('그날', 'NNG'), ('의', 'JKG'), ('반딧불', 'NNG'), ('을', 'JKO'), ('당신', 'NP'), ('의', 'JKG'), ('창', 'NNG'), ('가까이', 'MAG'), ('보내', 'VV'), ('ㄹ게요', 'EFN')]\n"
     ]
    }
   ],
   "source": [
    "okt =Kkma()\n",
    "print(okt.pos(u'이 밤 그날의 반딧불을 당신의 창 가까이 보낼게요'))"
   ]
  },
  {
   "cell_type": "code",
   "execution_count": 30,
   "id": "c60742ab",
   "metadata": {},
   "outputs": [],
   "source": [
    "from konlpy.tag import Komoran"
   ]
  },
  {
   "cell_type": "code",
   "execution_count": null,
   "id": "48b14afb",
   "metadata": {},
   "outputs": [],
   "source": []
  }
 ],
 "metadata": {
  "kernelspec": {
   "display_name": "Python 3 (ipykernel)",
   "language": "python",
   "name": "python3"
  },
  "language_info": {
   "codemirror_mode": {
    "name": "ipython",
    "version": 3
   },
   "file_extension": ".py",
   "mimetype": "text/x-python",
   "name": "python",
   "nbconvert_exporter": "python",
   "pygments_lexer": "ipython3",
   "version": "3.7.16"
  }
 },
 "nbformat": 4,
 "nbformat_minor": 5
}
