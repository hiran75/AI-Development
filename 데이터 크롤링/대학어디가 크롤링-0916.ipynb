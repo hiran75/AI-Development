{
 "cells": [
  {
   "cell_type": "code",
   "execution_count": 78,
   "id": "be3c6834",
   "metadata": {},
   "outputs": [],
   "source": [
    "from selenium import webdriver\n",
    "from selenium.webdriver.common.keys import Keys\n",
    "from selenium.webdriver.support.ui import WebDriverWait\n",
    "from selenium.webdriver.support import expected_conditions as EC\n",
    "from selenium.webdriver.common.by import By\n",
    "from selenium.webdriver.common.by import By\n",
    "import time\n",
    "from bs4 import BeautifulSoup"
   ]
  },
  {
   "cell_type": "code",
   "execution_count": 151,
   "id": "ea502951",
   "metadata": {},
   "outputs": [],
   "source": [
    "driver.get('https://www.adiga.kr/PageLinkAll.do?link=/kcue/ast/eip/eis/inf/sjinf/eipSjinfGnrl.do&p_menu_id=PG-EIP-05101')\n",
    "univename =\"서강대\"\n",
    "#deptname=\"공학계열\"\n",
    "searchbox = driver.find_element(By.ID,\"searchUnivKeyword\")\n",
    "searchbox.send_keys(univename)\n",
    "#driver.find_element(By.CSS_SELECTOR, \"#lst_lgcl_D > a\").click()\n",
    "# 페이지 로딩을 위해 충분한 시간을 기다림 (원하는 페이지로 이동한 다음에 진행)\n",
    "\n",
    "driver.find_element(By.CSS_SELECTOR, \"#sjFrm > div > div.con_search_box > div.search_box_btn > a\").click()\n",
    "time.sleep(3)"
   ]
  },
  {
   "cell_type": "code",
   "execution_count": 152,
   "id": "a7ef3658",
   "metadata": {
    "scrolled": true
   },
   "outputs": [
    {
     "name": "stdout",
     "output_type": "stream",
     "text": [
      "1\n",
      "총페이지수:3\n",
      "1/서강대학교 [본교] /게페르트국제학부/서울/5/-/-/S\"0000120\",\"U013797\",\"U013797\"\n",
      "2/서강대학교 [본교] /경영학부/서울/274/25.28/4.6/S\"0000120\",\"U013016\",\"U013016\"\n",
      "3/서강대학교 [본교] /경제학과/서울/167/21.55/3.83/S\"0000120\",\"U013015\",\"U013015\"\n",
      "4/서강대학교 [본교] /국어국문학과/서울/-/17.2/-/S\"0000120\",\"U012997\",\"U012997\"\n",
      "5/서강대학교 [본교] /글로벌융합학부/서울/-/-/-/S\"0000120\",\"U013798\",\"U013798\"\n",
      "6/서강대학교 [본교] /글로벌한국학부/서울/15/-/-/S\"0000120\",\"U013796\",\"U013796\"\n",
      "7/서강대학교 [본교] /기계공학과/서울/84/27.72/4.41/S\"0000120\",\"U013045\",\"U013045\"\n",
      "8/서강대학교 [본교] /물리학과/서울/52/20.81/5.25/S\"0000120\",\"U013026\",\"U013026\"\n",
      "9/서강대학교 [본교] /미디어&엔터테인먼트학과/서울/-/11.58/-/S\"0000120\",\"U013018\",\"U013018\"\n",
      "10/서강대학교 [본교] /사학과/서울/-/17.1/-/S\"0000120\",\"U013002\",\"U013002\"\n",
      "11/서강대학교 [본교] /사회과학부/서울/100/46.28/4.09/S\"0000120\",\"U006139\",\"U006139\"\n",
      "12/서강대학교 [본교] /사회학과/서울/-/16.55/-/S\"0000120\",\"U013009\",\"U013009\"\n",
      "13/서강대학교 [본교] /생명과학과/서울/52/21.27/4.62/S\"0000120\",\"U013029\",\"U013029\"\n",
      "14/서강대학교 [본교] /수학과/서울/53/24.88/4.61/S\"0000120\",\"U013024\",\"U013024\"\n",
      "15/서강대학교 [본교] /시스템반도체공학과/서울/-/-/-/S\"0000120\",\"U013342\",\"U013342\"\n",
      "16/서강대학교 [본교] /신문방송학과/서울/-/10.5/-/S\"0000120\",\"U013017\",\"U013017\"\n",
      "17/서강대학교 [본교] /심리학과/서울/-/13.18/-/S\"0000120\",\"U013013\",\"U013013\"\n",
      "18/서강대학교 [본교] /아트&테크놀로지학과/서울/-/22.83/-/S\"0000120\",\"U013022\",\"U013022\"\n",
      "19/서강대학교 [본교] /영문학부/서울/90/22.91/4.29/S\"0000120\",\"U013005\",\"U013005\"\n",
      "20/서강대학교 [본교] /유럽문화학과/서울/50/15.93/6.1/S\"0000120\",\"U013006\",\"U013006\"\n",
      "21/서강대학교 [본교] /인공지능학과/서울/28/33.94/7.45/S\"0000120\",\"U013075\",\"U013075\"\n",
      "22/서강대학교 [본교] /인문학부/서울/133/40.42/3.81/S\"0000120\",\"U012996\",\"U012996\"\n",
      "23/서강대학교 [본교] /전자공학과/서울/101/34.62/5.68/S\"0000120\",\"U013034\",\"U013034\"\n",
      "24/서강대학교 [본교] /정치외교학과/서울/-/21.09/-/S\"0000120\",\"U013010\",\"U013010\"\n",
      "25/서강대학교 [본교] /종교학과/서울/-/14.75/-/S\"0000120\",\"U013130\",\"U013130\"\n",
      "26/서강대학교 [본교] /중국문화학과/서울/35/12.24/6/S\"0000120\",\"U013007\",\"U013007\"\n",
      "27/서강대학교 [본교] /지식융합미디어학부/서울/108/41.29/4.04/S\"0000120\",\"0226776\",\"0226776\"\n",
      "28/서강대학교 [본교] /철학과/서울/-/26.8/-/S\"0000120\",\"U013004\",\"U013004\"\n",
      "29/서강대학교 [본교] /컴퓨터공학과/서울/101/38.89/7.38/S\"0000120\",\"U013040\",\"U013040\"\n",
      "30/서강대학교 [본교] /화공생명공학과/서울/101/37.86/4.83/S\"0000120\",\"U013042\",\"U013042\"\n"
     ]
    }
   ],
   "source": [
    "import math\n",
    "cnt = driver.find_element(By.ID,\"totalCountOrg\").text\n",
    "page= math.ceil(int(cnt)/15)\n",
    "\n",
    "remainder = math.ceil(int(cnt)%15)\n",
    "if remainder==0:\n",
    "    remainder=16\n",
    "    \n",
    "print(remainder)  # 출력: 3\n",
    "print('총페이지수:'+str(page))\n",
    "#item= page+1\n",
    "str_page=\"#pagination > li:nth-child(\"\n",
    "idx=0\n",
    "for idx in range(1, page+1):\n",
    "    str_item= str_page + str(idx+2) + ') > a'\n",
    "    #print(str_item)\n",
    "    driver.find_element(By.CSS_SELECTOR,  str_item).click()\n",
    "    time.sleep(3)\n",
    "    idx1=0\n",
    "    linecnt=16\n",
    "    #print(str(idx))\n",
    "    if(idx==page):\n",
    "        linecnt=remainder\n",
    "        \n",
    "    for idx1 in range(1, linecnt):\n",
    "        datano = str((idx-1)*15 + idx1)\n",
    "        element='//*[@id=\"tbResult\"]/tr['+ str(idx1) +']/td['    \n",
    "        dept_name = driver.find_element(By.XPATH, element+ '1]').text \n",
    "        url=driver.find_element(By.XPATH, element+ '1]/a').get_attribute(\"href\")\n",
    "        url= url[0:51]   \n",
    "        url = url.replace('javascript:fn_goSjinf(', '')\n",
    "       \n",
    "        id= url\n",
    "        univ_name = driver.find_element(By.XPATH, element+'2]').text   \n",
    "        ent_cnt = driver.find_element(By.XPATH, element+'3]').text     \n",
    "        compe_susi = driver.find_element(By.XPATH, element+'4]').text     \n",
    "        compe_junsi = driver.find_element(By.XPATH, element+'5]').text\n",
    "        junsi =  driver.find_element(By.XPATH, element+'6]').text\n",
    "        if len(junsi) == 0:\n",
    "            junsi=''\n",
    "        print(datano+\"/\"+  univ_name +' /' + dept_name + '/' +ent_cnt + '/' + compe_susi +'/' + compe_junsi+'/' +junsi + '/S' + id)\n",
    " "
   ]
  },
  {
   "cell_type": "code",
   "execution_count": 66,
   "id": "5a4bb149",
   "metadata": {},
   "outputs": [
    {
     "name": "stdout",
     "output_type": "stream",
     "text": [
      "1\n"
     ]
    }
   ],
   "source": [
    "#pagination > li:nth-child(3) > a\n",
    "#pagination > li:nth-child(3) > a\n"
   ]
  },
  {
   "cell_type": "code",
   "execution_count": 59,
   "id": "74a972a8",
   "metadata": {},
   "outputs": [],
   "source": [
    "driver.get('https://www.adiga.kr/PageLinkAll.do?link=/kcue/ast/eip/eis/inf/univinf/eipUinfGnrl.do&p_menu_id=PG-EIP-01701')\n",
    "driver.find_element(By.CSS_SELECTOR, \"#frm > div > div.con_search_box > div.search_box_btn > a\").click()\n"
   ]
  },
  {
   "cell_type": "code",
   "execution_count": 60,
   "id": "ead80a6e",
   "metadata": {},
   "outputs": [],
   "source": [
    " idx=0\n",
    "for idx in range(1, int(cnt)):\n",
    "        element='//*[@id=\"tbResult\"]/tr['+ str(idx) +']/td['    \n",
    "        dept_name = driver.find_element(By.XPATH, element+ '1]').text   \n",
    "        univ_name = driver.find_element(By.XPATH, element+'2]').text   \n",
    "        ent_cnt = driver.find_element(By.XPATH, element+'3]').text     \n",
    "        compe_susi = driver.find_element(By.XPATH, element+'4]').text     \n",
    "        compe_junsi = driver.find_element(By.XPATH, element+'5]').text  \n",
    "        print(dept_name +' /' + univ_name + '/' +ent_cnt + '/' + compe_susi +'/' + compe_junsi)"
   ]
  },
  {
   "cell_type": "code",
   "execution_count": 33,
   "id": "7f1ccd85",
   "metadata": {},
   "outputs": [
    {
     "name": "stdout",
     "output_type": "stream",
     "text": [
      "1start\n",
      "가야대학교(김해) [본교] /경남/6.31/2.11/440\n",
      "가천대학교 [본교] /경기/20.53/6.75/4,181\n",
      "가톨릭관동대학교 [본교] /강원/2.85/0.94/1,644\n",
      "가톨릭꽃동네대학교 [본교] /충북/6.95/2.57/108\n",
      "가톨릭대학교 [본교] /경기/14.86/6.2/1,574\n",
      "가톨릭대학교 [제2캠퍼스] /서울/54.93/3.64/173\n",
      "가톨릭대학교 [제3캠퍼스] /서울/0.91/2/50\n",
      "감리교신학대학교 [본교] /서울/0.91/0.38/154\n",
      "강남대학교 [본교] /경기/6.76/6.7/1,491\n",
      "강릉원주대학교 [본교] /강원/3.96/4.98/1,210\n",
      "강릉원주대학교 [제2캠퍼스] /강원/5.3/7.25/485\n",
      "강서대학교 [본교] /서울/12.16/12.8/277\n",
      "강원대학교 [본교] /강원/8.12/4.99/3,136\n",
      "1end\n",
      "2start\n",
      "가야대학교(김해) [본교] /경남/6.31/2.11/440\n",
      "가천대학교 [본교] /경기/20.53/6.75/4,181\n",
      "가톨릭관동대학교 [본교] /강원/2.85/0.94/1,644\n",
      "가톨릭꽃동네대학교 [본교] /충북/6.95/2.57/108\n",
      "가톨릭대학교 [본교] /경기/14.86/6.2/1,574\n"
     ]
    },
    {
     "ename": "StaleElementReferenceException",
     "evalue": "Message: stale element reference: stale element not found\n  (Session info: chrome=116.0.5845.188); For documentation on this error, please visit: https://www.selenium.dev/documentation/webdriver/troubleshooting/errors#stale-element-reference-exception\nStacktrace:\n\tGetHandleVerifier [0x00007FF6D46452A2+57122]\n\t(No symbol) [0x00007FF6D45BEA92]\n\t(No symbol) [0x00007FF6D448E3AB]\n\t(No symbol) [0x00007FF6D4492382]\n\t(No symbol) [0x00007FF6D4493D2F]\n\t(No symbol) [0x00007FF6D4493E20]\n\t(No symbol) [0x00007FF6D44C367E]\n\t(No symbol) [0x00007FF6D44E6FDA]\n\t(No symbol) [0x00007FF6D44BEB76]\n\t(No symbol) [0x00007FF6D44E71F0]\n\t(No symbol) [0x00007FF6D44FEB82]\n\t(No symbol) [0x00007FF6D44E6DB3]\n\t(No symbol) [0x00007FF6D44BD2B1]\n\t(No symbol) [0x00007FF6D44BE494]\n\tGetHandleVerifier [0x00007FF6D48EEF82+2849794]\n\tGetHandleVerifier [0x00007FF6D4941D24+3189156]\n\tGetHandleVerifier [0x00007FF6D493ACAF+3160367]\n\tGetHandleVerifier [0x00007FF6D46D6D06+653702]\n\t(No symbol) [0x00007FF6D45CA208]\n\t(No symbol) [0x00007FF6D45C62C4]\n\t(No symbol) [0x00007FF6D45C63F6]\n\t(No symbol) [0x00007FF6D45B67A3]\n\tBaseThreadInitThunk [0x00007FFC47F87344+20]\n\tRtlUserThreadStart [0x00007FFC482C26B1+33]\n",
     "output_type": "error",
     "traceback": [
      "\u001b[1;31m---------------------------------------------------------------------------\u001b[0m",
      "\u001b[1;31mStaleElementReferenceException\u001b[0m            Traceback (most recent call last)",
      "\u001b[1;32m~\\AppData\\Local\\Temp\\ipykernel_212244\\534542725.py\u001b[0m in \u001b[0;36m<module>\u001b[1;34m\u001b[0m\n\u001b[0;32m     10\u001b[0m         \u001b[0ment_cnt\u001b[0m \u001b[1;33m=\u001b[0m \u001b[0mdriver\u001b[0m\u001b[1;33m.\u001b[0m\u001b[0mfind_element\u001b[0m\u001b[1;33m(\u001b[0m\u001b[0mBy\u001b[0m\u001b[1;33m.\u001b[0m\u001b[0mXPATH\u001b[0m\u001b[1;33m,\u001b[0m \u001b[0melement\u001b[0m\u001b[1;33m+\u001b[0m\u001b[1;34m'3]'\u001b[0m\u001b[1;33m)\u001b[0m\u001b[1;33m.\u001b[0m\u001b[0mtext\u001b[0m\u001b[1;33m\u001b[0m\u001b[1;33m\u001b[0m\u001b[0m\n\u001b[0;32m     11\u001b[0m         \u001b[0mcompe_susi\u001b[0m \u001b[1;33m=\u001b[0m \u001b[0mdriver\u001b[0m\u001b[1;33m.\u001b[0m\u001b[0mfind_element\u001b[0m\u001b[1;33m(\u001b[0m\u001b[0mBy\u001b[0m\u001b[1;33m.\u001b[0m\u001b[0mXPATH\u001b[0m\u001b[1;33m,\u001b[0m \u001b[0melement\u001b[0m\u001b[1;33m+\u001b[0m\u001b[1;34m'4]'\u001b[0m\u001b[1;33m)\u001b[0m\u001b[1;33m.\u001b[0m\u001b[0mtext\u001b[0m\u001b[1;33m\u001b[0m\u001b[1;33m\u001b[0m\u001b[0m\n\u001b[1;32m---> 12\u001b[1;33m         \u001b[0mcompe_junsi\u001b[0m \u001b[1;33m=\u001b[0m \u001b[0mdriver\u001b[0m\u001b[1;33m.\u001b[0m\u001b[0mfind_element\u001b[0m\u001b[1;33m(\u001b[0m\u001b[0mBy\u001b[0m\u001b[1;33m.\u001b[0m\u001b[0mXPATH\u001b[0m\u001b[1;33m,\u001b[0m \u001b[0melement\u001b[0m\u001b[1;33m+\u001b[0m\u001b[1;34m'5]'\u001b[0m\u001b[1;33m)\u001b[0m\u001b[1;33m.\u001b[0m\u001b[0mtext\u001b[0m\u001b[1;33m\u001b[0m\u001b[1;33m\u001b[0m\u001b[0m\n\u001b[0m\u001b[0;32m     13\u001b[0m         \u001b[0mprint\u001b[0m\u001b[1;33m(\u001b[0m\u001b[0mdept_name\u001b[0m \u001b[1;33m+\u001b[0m\u001b[1;34m' /'\u001b[0m \u001b[1;33m+\u001b[0m \u001b[0muniv_name\u001b[0m \u001b[1;33m+\u001b[0m \u001b[1;34m'/'\u001b[0m \u001b[1;33m+\u001b[0m\u001b[0ment_cnt\u001b[0m \u001b[1;33m+\u001b[0m \u001b[1;34m'/'\u001b[0m \u001b[1;33m+\u001b[0m \u001b[0mcompe_susi\u001b[0m \u001b[1;33m+\u001b[0m\u001b[1;34m'/'\u001b[0m \u001b[1;33m+\u001b[0m \u001b[0mcompe_junsi\u001b[0m\u001b[1;33m)\u001b[0m\u001b[1;33m\u001b[0m\u001b[1;33m\u001b[0m\u001b[0m\n\u001b[0;32m     14\u001b[0m     \u001b[0mprint\u001b[0m\u001b[1;33m(\u001b[0m\u001b[0mstr\u001b[0m\u001b[1;33m(\u001b[0m\u001b[0mpage\u001b[0m\u001b[1;33m-\u001b[0m\u001b[1;36m2\u001b[0m\u001b[1;33m)\u001b[0m \u001b[1;33m+\u001b[0m\u001b[1;34m'end'\u001b[0m\u001b[1;33m)\u001b[0m\u001b[1;33m\u001b[0m\u001b[1;33m\u001b[0m\u001b[0m\n",
      "\u001b[1;32mD:\\anacondo\\envs\\dev1\\lib\\site-packages\\selenium\\webdriver\\remote\\webelement.py\u001b[0m in \u001b[0;36mtext\u001b[1;34m(self)\u001b[0m\n\u001b[0;32m     88\u001b[0m     \u001b[1;32mdef\u001b[0m \u001b[0mtext\u001b[0m\u001b[1;33m(\u001b[0m\u001b[0mself\u001b[0m\u001b[1;33m)\u001b[0m \u001b[1;33m->\u001b[0m \u001b[0mstr\u001b[0m\u001b[1;33m:\u001b[0m\u001b[1;33m\u001b[0m\u001b[1;33m\u001b[0m\u001b[0m\n\u001b[0;32m     89\u001b[0m         \u001b[1;34m\"\"\"The text of the element.\"\"\"\u001b[0m\u001b[1;33m\u001b[0m\u001b[1;33m\u001b[0m\u001b[0m\n\u001b[1;32m---> 90\u001b[1;33m         \u001b[1;32mreturn\u001b[0m \u001b[0mself\u001b[0m\u001b[1;33m.\u001b[0m\u001b[0m_execute\u001b[0m\u001b[1;33m(\u001b[0m\u001b[0mCommand\u001b[0m\u001b[1;33m.\u001b[0m\u001b[0mGET_ELEMENT_TEXT\u001b[0m\u001b[1;33m)\u001b[0m\u001b[1;33m[\u001b[0m\u001b[1;34m\"value\"\u001b[0m\u001b[1;33m]\u001b[0m\u001b[1;33m\u001b[0m\u001b[1;33m\u001b[0m\u001b[0m\n\u001b[0m\u001b[0;32m     91\u001b[0m \u001b[1;33m\u001b[0m\u001b[0m\n\u001b[0;32m     92\u001b[0m     \u001b[1;32mdef\u001b[0m \u001b[0mclick\u001b[0m\u001b[1;33m(\u001b[0m\u001b[0mself\u001b[0m\u001b[1;33m)\u001b[0m \u001b[1;33m->\u001b[0m \u001b[1;32mNone\u001b[0m\u001b[1;33m:\u001b[0m\u001b[1;33m\u001b[0m\u001b[1;33m\u001b[0m\u001b[0m\n",
      "\u001b[1;32mD:\\anacondo\\envs\\dev1\\lib\\site-packages\\selenium\\webdriver\\remote\\webelement.py\u001b[0m in \u001b[0;36m_execute\u001b[1;34m(self, command, params)\u001b[0m\n\u001b[0;32m    393\u001b[0m             \u001b[0mparams\u001b[0m \u001b[1;33m=\u001b[0m \u001b[1;33m{\u001b[0m\u001b[1;33m}\u001b[0m\u001b[1;33m\u001b[0m\u001b[1;33m\u001b[0m\u001b[0m\n\u001b[0;32m    394\u001b[0m         \u001b[0mparams\u001b[0m\u001b[1;33m[\u001b[0m\u001b[1;34m\"id\"\u001b[0m\u001b[1;33m]\u001b[0m \u001b[1;33m=\u001b[0m \u001b[0mself\u001b[0m\u001b[1;33m.\u001b[0m\u001b[0m_id\u001b[0m\u001b[1;33m\u001b[0m\u001b[1;33m\u001b[0m\u001b[0m\n\u001b[1;32m--> 395\u001b[1;33m         \u001b[1;32mreturn\u001b[0m \u001b[0mself\u001b[0m\u001b[1;33m.\u001b[0m\u001b[0m_parent\u001b[0m\u001b[1;33m.\u001b[0m\u001b[0mexecute\u001b[0m\u001b[1;33m(\u001b[0m\u001b[0mcommand\u001b[0m\u001b[1;33m,\u001b[0m \u001b[0mparams\u001b[0m\u001b[1;33m)\u001b[0m\u001b[1;33m\u001b[0m\u001b[1;33m\u001b[0m\u001b[0m\n\u001b[0m\u001b[0;32m    396\u001b[0m \u001b[1;33m\u001b[0m\u001b[0m\n\u001b[0;32m    397\u001b[0m     \u001b[1;32mdef\u001b[0m \u001b[0mfind_element\u001b[0m\u001b[1;33m(\u001b[0m\u001b[0mself\u001b[0m\u001b[1;33m,\u001b[0m \u001b[0mby\u001b[0m\u001b[1;33m=\u001b[0m\u001b[0mBy\u001b[0m\u001b[1;33m.\u001b[0m\u001b[0mID\u001b[0m\u001b[1;33m,\u001b[0m \u001b[0mvalue\u001b[0m\u001b[1;33m=\u001b[0m\u001b[1;32mNone\u001b[0m\u001b[1;33m)\u001b[0m \u001b[1;33m->\u001b[0m \u001b[0mWebElement\u001b[0m\u001b[1;33m:\u001b[0m\u001b[1;33m\u001b[0m\u001b[1;33m\u001b[0m\u001b[0m\n",
      "\u001b[1;32mD:\\anacondo\\envs\\dev1\\lib\\site-packages\\selenium\\webdriver\\remote\\webdriver.py\u001b[0m in \u001b[0;36mexecute\u001b[1;34m(self, driver_command, params)\u001b[0m\n\u001b[0;32m    343\u001b[0m         \u001b[0mresponse\u001b[0m \u001b[1;33m=\u001b[0m \u001b[0mself\u001b[0m\u001b[1;33m.\u001b[0m\u001b[0mcommand_executor\u001b[0m\u001b[1;33m.\u001b[0m\u001b[0mexecute\u001b[0m\u001b[1;33m(\u001b[0m\u001b[0mdriver_command\u001b[0m\u001b[1;33m,\u001b[0m \u001b[0mparams\u001b[0m\u001b[1;33m)\u001b[0m\u001b[1;33m\u001b[0m\u001b[1;33m\u001b[0m\u001b[0m\n\u001b[0;32m    344\u001b[0m         \u001b[1;32mif\u001b[0m \u001b[0mresponse\u001b[0m\u001b[1;33m:\u001b[0m\u001b[1;33m\u001b[0m\u001b[1;33m\u001b[0m\u001b[0m\n\u001b[1;32m--> 345\u001b[1;33m             \u001b[0mself\u001b[0m\u001b[1;33m.\u001b[0m\u001b[0merror_handler\u001b[0m\u001b[1;33m.\u001b[0m\u001b[0mcheck_response\u001b[0m\u001b[1;33m(\u001b[0m\u001b[0mresponse\u001b[0m\u001b[1;33m)\u001b[0m\u001b[1;33m\u001b[0m\u001b[1;33m\u001b[0m\u001b[0m\n\u001b[0m\u001b[0;32m    346\u001b[0m             \u001b[0mresponse\u001b[0m\u001b[1;33m[\u001b[0m\u001b[1;34m\"value\"\u001b[0m\u001b[1;33m]\u001b[0m \u001b[1;33m=\u001b[0m \u001b[0mself\u001b[0m\u001b[1;33m.\u001b[0m\u001b[0m_unwrap_value\u001b[0m\u001b[1;33m(\u001b[0m\u001b[0mresponse\u001b[0m\u001b[1;33m.\u001b[0m\u001b[0mget\u001b[0m\u001b[1;33m(\u001b[0m\u001b[1;34m\"value\"\u001b[0m\u001b[1;33m,\u001b[0m \u001b[1;32mNone\u001b[0m\u001b[1;33m)\u001b[0m\u001b[1;33m)\u001b[0m\u001b[1;33m\u001b[0m\u001b[1;33m\u001b[0m\u001b[0m\n\u001b[0;32m    347\u001b[0m             \u001b[1;32mreturn\u001b[0m \u001b[0mresponse\u001b[0m\u001b[1;33m\u001b[0m\u001b[1;33m\u001b[0m\u001b[0m\n",
      "\u001b[1;32mD:\\anacondo\\envs\\dev1\\lib\\site-packages\\selenium\\webdriver\\remote\\errorhandler.py\u001b[0m in \u001b[0;36mcheck_response\u001b[1;34m(self, response)\u001b[0m\n\u001b[0;32m    227\u001b[0m                 \u001b[0malert_text\u001b[0m \u001b[1;33m=\u001b[0m \u001b[0mvalue\u001b[0m\u001b[1;33m[\u001b[0m\u001b[1;34m\"alert\"\u001b[0m\u001b[1;33m]\u001b[0m\u001b[1;33m.\u001b[0m\u001b[0mget\u001b[0m\u001b[1;33m(\u001b[0m\u001b[1;34m\"text\"\u001b[0m\u001b[1;33m)\u001b[0m\u001b[1;33m\u001b[0m\u001b[1;33m\u001b[0m\u001b[0m\n\u001b[0;32m    228\u001b[0m             \u001b[1;32mraise\u001b[0m \u001b[0mexception_class\u001b[0m\u001b[1;33m(\u001b[0m\u001b[0mmessage\u001b[0m\u001b[1;33m,\u001b[0m \u001b[0mscreen\u001b[0m\u001b[1;33m,\u001b[0m \u001b[0mstacktrace\u001b[0m\u001b[1;33m,\u001b[0m \u001b[0malert_text\u001b[0m\u001b[1;33m)\u001b[0m  \u001b[1;31m# type: ignore[call-arg]  # mypy is not smart enough here\u001b[0m\u001b[1;33m\u001b[0m\u001b[1;33m\u001b[0m\u001b[0m\n\u001b[1;32m--> 229\u001b[1;33m         \u001b[1;32mraise\u001b[0m \u001b[0mexception_class\u001b[0m\u001b[1;33m(\u001b[0m\u001b[0mmessage\u001b[0m\u001b[1;33m,\u001b[0m \u001b[0mscreen\u001b[0m\u001b[1;33m,\u001b[0m \u001b[0mstacktrace\u001b[0m\u001b[1;33m)\u001b[0m\u001b[1;33m\u001b[0m\u001b[1;33m\u001b[0m\u001b[0m\n\u001b[0m",
      "\u001b[1;31mStaleElementReferenceException\u001b[0m: Message: stale element reference: stale element not found\n  (Session info: chrome=116.0.5845.188); For documentation on this error, please visit: https://www.selenium.dev/documentation/webdriver/troubleshooting/errors#stale-element-reference-exception\nStacktrace:\n\tGetHandleVerifier [0x00007FF6D46452A2+57122]\n\t(No symbol) [0x00007FF6D45BEA92]\n\t(No symbol) [0x00007FF6D448E3AB]\n\t(No symbol) [0x00007FF6D4492382]\n\t(No symbol) [0x00007FF6D4493D2F]\n\t(No symbol) [0x00007FF6D4493E20]\n\t(No symbol) [0x00007FF6D44C367E]\n\t(No symbol) [0x00007FF6D44E6FDA]\n\t(No symbol) [0x00007FF6D44BEB76]\n\t(No symbol) [0x00007FF6D44E71F0]\n\t(No symbol) [0x00007FF6D44FEB82]\n\t(No symbol) [0x00007FF6D44E6DB3]\n\t(No symbol) [0x00007FF6D44BD2B1]\n\t(No symbol) [0x00007FF6D44BE494]\n\tGetHandleVerifier [0x00007FF6D48EEF82+2849794]\n\tGetHandleVerifier [0x00007FF6D4941D24+3189156]\n\tGetHandleVerifier [0x00007FF6D493ACAF+3160367]\n\tGetHandleVerifier [0x00007FF6D46D6D06+653702]\n\t(No symbol) [0x00007FF6D45CA208]\n\t(No symbol) [0x00007FF6D45C62C4]\n\t(No symbol) [0x00007FF6D45C63F6]\n\t(No symbol) [0x00007FF6D45B67A3]\n\tBaseThreadInitThunk [0x00007FFC47F87344+20]\n\tRtlUserThreadStart [0x00007FFC482C26B1+33]\n"
     ]
    }
   ],
   "source": [
    "for page in range(3, 13):\n",
    "    driver.find_element(By.XPATH, '//*[@id=\"pagination\"]/li['+ str(page) +']/a').click()\n",
    "    \n",
    "    print(str(page-2) +'start')\n",
    "    idx=0\n",
    "    for idx in range(1, 14):\n",
    "        element='//*[@id=\"tbResult\"]/tr['+ str(idx) +']/td['    \n",
    "        dept_name = driver.find_element(By.XPATH, element+ '1]').text   \n",
    "        univ_name = driver.find_element(By.XPATH, element+'2]').text   \n",
    "        ent_cnt = driver.find_element(By.XPATH, element+'3]').text     \n",
    "        compe_susi = driver.find_element(By.XPATH, element+'4]').text     \n",
    "        compe_junsi = driver.find_element(By.XPATH, element+'5]').text  \n",
    "        print(dept_name +' /' + univ_name + '/' +ent_cnt + '/' + compe_susi +'/' + compe_junsi)\n",
    "    print(str(page-2) +'end')"
   ]
  },
  {
   "cell_type": "code",
   "execution_count": 399,
   "id": "c81f93c3",
   "metadata": {},
   "outputs": [
    {
     "ename": "InvalidSelectorException",
     "evalue": "Message: invalid selector: Unable to locate an element with the xpath expression //*[@id=\"pagination\"]/li[12]]/a because of the following error:\nSyntaxError: Failed to execute 'evaluate' on 'Document': The string '//*[@id=\"pagination\"]/li[12]]/a' is not a valid XPath expression.\n  (Session info: chrome=116.0.5845.180); For documentation on this error, please visit: https://www.selenium.dev/documentation/webdriver/troubleshooting/errors#invalid-selector-exception\nStacktrace:\n\tGetHandleVerifier [0x00007FF60F2452A2+57122]\n\t(No symbol) [0x00007FF60F1BEA92]\n\t(No symbol) [0x00007FF60F08E3AB]\n\t(No symbol) [0x00007FF60F092382]\n\t(No symbol) [0x00007FF60F093D2F]\n\t(No symbol) [0x00007FF60F093E20]\n\t(No symbol) [0x00007FF60F0C79B1]\n\t(No symbol) [0x00007FF60F0C7E2C]\n\t(No symbol) [0x00007FF60F100B67]\n\t(No symbol) [0x00007FF60F0E701F]\n\t(No symbol) [0x00007FF60F0FEB82]\n\t(No symbol) [0x00007FF60F0E6DB3]\n\t(No symbol) [0x00007FF60F0BD2B1]\n\t(No symbol) [0x00007FF60F0BE494]\n\tGetHandleVerifier [0x00007FF60F4EEF82+2849794]\n\tGetHandleVerifier [0x00007FF60F541D24+3189156]\n\tGetHandleVerifier [0x00007FF60F53ACAF+3160367]\n\tGetHandleVerifier [0x00007FF60F2D6D06+653702]\n\t(No symbol) [0x00007FF60F1CA208]\n\t(No symbol) [0x00007FF60F1C62C4]\n\t(No symbol) [0x00007FF60F1C63F6]\n\t(No symbol) [0x00007FF60F1B67A3]\n\tBaseThreadInitThunk [0x00007FF915757614+20]\n\tRtlUserThreadStart [0x00007FF9176A26B1+33]\n",
     "output_type": "error",
     "traceback": [
      "\u001b[1;31m---------------------------------------------------------------------------\u001b[0m",
      "\u001b[1;31mInvalidSelectorException\u001b[0m                  Traceback (most recent call last)",
      "\u001b[1;32m~\\AppData\\Local\\Temp\\ipykernel_224756\\2001136164.py\u001b[0m in \u001b[0;36m<module>\u001b[1;34m\u001b[0m\n\u001b[1;32m----> 1\u001b[1;33m \u001b[0mdriver\u001b[0m\u001b[1;33m.\u001b[0m\u001b[0mfind_element\u001b[0m\u001b[1;33m(\u001b[0m\u001b[0mBy\u001b[0m\u001b[1;33m.\u001b[0m\u001b[0mXPATH\u001b[0m\u001b[1;33m,\u001b[0m \u001b[1;34m'//*[@id=\"pagination\"]/li[12]]/a'\u001b[0m\u001b[1;33m)\u001b[0m\u001b[1;33m.\u001b[0m\u001b[0mclick\u001b[0m\u001b[1;33m(\u001b[0m\u001b[1;33m)\u001b[0m\u001b[1;33m\u001b[0m\u001b[1;33m\u001b[0m\u001b[0m\n\u001b[0m\u001b[0;32m      2\u001b[0m \u001b[1;33m\u001b[0m\u001b[0m\n",
      "\u001b[1;32mD:\\anacondo\\envs\\dev1\\lib\\site-packages\\selenium\\webdriver\\remote\\webdriver.py\u001b[0m in \u001b[0;36mfind_element\u001b[1;34m(self, by, value)\u001b[0m\n\u001b[0;32m    737\u001b[0m             \u001b[0mvalue\u001b[0m \u001b[1;33m=\u001b[0m \u001b[1;34mf'[name=\"{value}\"]'\u001b[0m\u001b[1;33m\u001b[0m\u001b[1;33m\u001b[0m\u001b[0m\n\u001b[0;32m    738\u001b[0m \u001b[1;33m\u001b[0m\u001b[0m\n\u001b[1;32m--> 739\u001b[1;33m         \u001b[1;32mreturn\u001b[0m \u001b[0mself\u001b[0m\u001b[1;33m.\u001b[0m\u001b[0mexecute\u001b[0m\u001b[1;33m(\u001b[0m\u001b[0mCommand\u001b[0m\u001b[1;33m.\u001b[0m\u001b[0mFIND_ELEMENT\u001b[0m\u001b[1;33m,\u001b[0m \u001b[1;33m{\u001b[0m\u001b[1;34m\"using\"\u001b[0m\u001b[1;33m:\u001b[0m \u001b[0mby\u001b[0m\u001b[1;33m,\u001b[0m \u001b[1;34m\"value\"\u001b[0m\u001b[1;33m:\u001b[0m \u001b[0mvalue\u001b[0m\u001b[1;33m}\u001b[0m\u001b[1;33m)\u001b[0m\u001b[1;33m[\u001b[0m\u001b[1;34m\"value\"\u001b[0m\u001b[1;33m]\u001b[0m\u001b[1;33m\u001b[0m\u001b[1;33m\u001b[0m\u001b[0m\n\u001b[0m\u001b[0;32m    740\u001b[0m \u001b[1;33m\u001b[0m\u001b[0m\n\u001b[0;32m    741\u001b[0m     \u001b[1;32mdef\u001b[0m \u001b[0mfind_elements\u001b[0m\u001b[1;33m(\u001b[0m\u001b[0mself\u001b[0m\u001b[1;33m,\u001b[0m \u001b[0mby\u001b[0m\u001b[1;33m=\u001b[0m\u001b[0mBy\u001b[0m\u001b[1;33m.\u001b[0m\u001b[0mID\u001b[0m\u001b[1;33m,\u001b[0m \u001b[0mvalue\u001b[0m\u001b[1;33m:\u001b[0m \u001b[0mOptional\u001b[0m\u001b[1;33m[\u001b[0m\u001b[0mstr\u001b[0m\u001b[1;33m]\u001b[0m \u001b[1;33m=\u001b[0m \u001b[1;32mNone\u001b[0m\u001b[1;33m)\u001b[0m \u001b[1;33m->\u001b[0m \u001b[0mList\u001b[0m\u001b[1;33m[\u001b[0m\u001b[0mWebElement\u001b[0m\u001b[1;33m]\u001b[0m\u001b[1;33m:\u001b[0m\u001b[1;33m\u001b[0m\u001b[1;33m\u001b[0m\u001b[0m\n",
      "\u001b[1;32mD:\\anacondo\\envs\\dev1\\lib\\site-packages\\selenium\\webdriver\\remote\\webdriver.py\u001b[0m in \u001b[0;36mexecute\u001b[1;34m(self, driver_command, params)\u001b[0m\n\u001b[0;32m    343\u001b[0m         \u001b[0mresponse\u001b[0m \u001b[1;33m=\u001b[0m \u001b[0mself\u001b[0m\u001b[1;33m.\u001b[0m\u001b[0mcommand_executor\u001b[0m\u001b[1;33m.\u001b[0m\u001b[0mexecute\u001b[0m\u001b[1;33m(\u001b[0m\u001b[0mdriver_command\u001b[0m\u001b[1;33m,\u001b[0m \u001b[0mparams\u001b[0m\u001b[1;33m)\u001b[0m\u001b[1;33m\u001b[0m\u001b[1;33m\u001b[0m\u001b[0m\n\u001b[0;32m    344\u001b[0m         \u001b[1;32mif\u001b[0m \u001b[0mresponse\u001b[0m\u001b[1;33m:\u001b[0m\u001b[1;33m\u001b[0m\u001b[1;33m\u001b[0m\u001b[0m\n\u001b[1;32m--> 345\u001b[1;33m             \u001b[0mself\u001b[0m\u001b[1;33m.\u001b[0m\u001b[0merror_handler\u001b[0m\u001b[1;33m.\u001b[0m\u001b[0mcheck_response\u001b[0m\u001b[1;33m(\u001b[0m\u001b[0mresponse\u001b[0m\u001b[1;33m)\u001b[0m\u001b[1;33m\u001b[0m\u001b[1;33m\u001b[0m\u001b[0m\n\u001b[0m\u001b[0;32m    346\u001b[0m             \u001b[0mresponse\u001b[0m\u001b[1;33m[\u001b[0m\u001b[1;34m\"value\"\u001b[0m\u001b[1;33m]\u001b[0m \u001b[1;33m=\u001b[0m \u001b[0mself\u001b[0m\u001b[1;33m.\u001b[0m\u001b[0m_unwrap_value\u001b[0m\u001b[1;33m(\u001b[0m\u001b[0mresponse\u001b[0m\u001b[1;33m.\u001b[0m\u001b[0mget\u001b[0m\u001b[1;33m(\u001b[0m\u001b[1;34m\"value\"\u001b[0m\u001b[1;33m,\u001b[0m \u001b[1;32mNone\u001b[0m\u001b[1;33m)\u001b[0m\u001b[1;33m)\u001b[0m\u001b[1;33m\u001b[0m\u001b[1;33m\u001b[0m\u001b[0m\n\u001b[0;32m    347\u001b[0m             \u001b[1;32mreturn\u001b[0m \u001b[0mresponse\u001b[0m\u001b[1;33m\u001b[0m\u001b[1;33m\u001b[0m\u001b[0m\n",
      "\u001b[1;32mD:\\anacondo\\envs\\dev1\\lib\\site-packages\\selenium\\webdriver\\remote\\errorhandler.py\u001b[0m in \u001b[0;36mcheck_response\u001b[1;34m(self, response)\u001b[0m\n\u001b[0;32m    227\u001b[0m                 \u001b[0malert_text\u001b[0m \u001b[1;33m=\u001b[0m \u001b[0mvalue\u001b[0m\u001b[1;33m[\u001b[0m\u001b[1;34m\"alert\"\u001b[0m\u001b[1;33m]\u001b[0m\u001b[1;33m.\u001b[0m\u001b[0mget\u001b[0m\u001b[1;33m(\u001b[0m\u001b[1;34m\"text\"\u001b[0m\u001b[1;33m)\u001b[0m\u001b[1;33m\u001b[0m\u001b[1;33m\u001b[0m\u001b[0m\n\u001b[0;32m    228\u001b[0m             \u001b[1;32mraise\u001b[0m \u001b[0mexception_class\u001b[0m\u001b[1;33m(\u001b[0m\u001b[0mmessage\u001b[0m\u001b[1;33m,\u001b[0m \u001b[0mscreen\u001b[0m\u001b[1;33m,\u001b[0m \u001b[0mstacktrace\u001b[0m\u001b[1;33m,\u001b[0m \u001b[0malert_text\u001b[0m\u001b[1;33m)\u001b[0m  \u001b[1;31m# type: ignore[call-arg]  # mypy is not smart enough here\u001b[0m\u001b[1;33m\u001b[0m\u001b[1;33m\u001b[0m\u001b[0m\n\u001b[1;32m--> 229\u001b[1;33m         \u001b[1;32mraise\u001b[0m \u001b[0mexception_class\u001b[0m\u001b[1;33m(\u001b[0m\u001b[0mmessage\u001b[0m\u001b[1;33m,\u001b[0m \u001b[0mscreen\u001b[0m\u001b[1;33m,\u001b[0m \u001b[0mstacktrace\u001b[0m\u001b[1;33m)\u001b[0m\u001b[1;33m\u001b[0m\u001b[1;33m\u001b[0m\u001b[0m\n\u001b[0m",
      "\u001b[1;31mInvalidSelectorException\u001b[0m: Message: invalid selector: Unable to locate an element with the xpath expression //*[@id=\"pagination\"]/li[12]]/a because of the following error:\nSyntaxError: Failed to execute 'evaluate' on 'Document': The string '//*[@id=\"pagination\"]/li[12]]/a' is not a valid XPath expression.\n  (Session info: chrome=116.0.5845.180); For documentation on this error, please visit: https://www.selenium.dev/documentation/webdriver/troubleshooting/errors#invalid-selector-exception\nStacktrace:\n\tGetHandleVerifier [0x00007FF60F2452A2+57122]\n\t(No symbol) [0x00007FF60F1BEA92]\n\t(No symbol) [0x00007FF60F08E3AB]\n\t(No symbol) [0x00007FF60F092382]\n\t(No symbol) [0x00007FF60F093D2F]\n\t(No symbol) [0x00007FF60F093E20]\n\t(No symbol) [0x00007FF60F0C79B1]\n\t(No symbol) [0x00007FF60F0C7E2C]\n\t(No symbol) [0x00007FF60F100B67]\n\t(No symbol) [0x00007FF60F0E701F]\n\t(No symbol) [0x00007FF60F0FEB82]\n\t(No symbol) [0x00007FF60F0E6DB3]\n\t(No symbol) [0x00007FF60F0BD2B1]\n\t(No symbol) [0x00007FF60F0BE494]\n\tGetHandleVerifier [0x00007FF60F4EEF82+2849794]\n\tGetHandleVerifier [0x00007FF60F541D24+3189156]\n\tGetHandleVerifier [0x00007FF60F53ACAF+3160367]\n\tGetHandleVerifier [0x00007FF60F2D6D06+653702]\n\t(No symbol) [0x00007FF60F1CA208]\n\t(No symbol) [0x00007FF60F1C62C4]\n\t(No symbol) [0x00007FF60F1C63F6]\n\t(No symbol) [0x00007FF60F1B67A3]\n\tBaseThreadInitThunk [0x00007FF915757614+20]\n\tRtlUserThreadStart [0x00007FF9176A26B1+33]\n"
     ]
    }
   ],
   "source": [
    "driver.find_element(By.XPATH, '//*[@id=\"pagination\"]/li[12]]/a').click()    \n",
    "\n"
   ]
  },
  {
   "cell_type": "code",
   "execution_count": 400,
   "id": "2bbb2646",
   "metadata": {},
   "outputs": [
    {
     "name": "stdout",
     "output_type": "stream",
     "text": [
      "경주대학교 [본교] /경북/0.81/0.47/762\n",
      "경희대학교 [본교] /서울/24.21/4.62/4,840\n",
      "계명대학교 [본교] /대구/6.36/5.91/4,619\n",
      "고려대학교 [본교] /서울/14.16/3.63/3,992\n",
      "고려대학교(세종) [분교] /세종/9.43/6.33/1,379\n",
      "고신대학교 [본교] /부산/4.69/2.24/784\n",
      "공주교육대학교 [본교] /충남/5.22/1.88/354\n",
      "공주대학교 [본교] /충남/7.37/3.83/2,815\n",
      "광신대학교 [본교] /광주/1.02/0.76/105\n",
      "광운대학교 [본교] /서울/14.49/7.18/1,816\n",
      "광주가톨릭대학교 [본교] /전남/0.35/-/40\n",
      "광주교육대학교 [본교] /광주/4.34/2.84/326\n",
      "광주대학교 [본교] /광주/4.19/0.63/1,393\n",
      "광주여자대학교 [본교] /광주/3.12/0.4/912\n",
      "국민대학교 [본교] /서울/10.04/5.88/2,966\n"
     ]
    }
   ],
   "source": [
    "idx=0\n",
    "for idx in range(1, int(cnt)+1):\n",
    "    element='//*[@id=\"tbResult\"]/tr['+ str(idx) +']/td['    \n",
    "    dept_name = driver.find_element(By.XPATH, element+ '1]').text   \n",
    "    univ_name = driver.find_element(By.XPATH, element+'2]').text   \n",
    "    ent_cnt = driver.find_element(By.XPATH, element+'3]').text     \n",
    "    compe_susi = driver.find_element(By.XPATH, element+'4]').text     \n",
    "    compe_junsi = driver.find_element(By.XPATH, element+'5]').text  \n",
    "    print(dept_name +' /' + univ_name + '/' +ent_cnt + '/' + compe_susi +'/' + compe_junsi)\n",
    "        #deail=driver.find_element(By.XPATH, element+'1]/a').click()\n",
    "        #tab=driver.find_element(By.XPATH, '//*[@id=\"EipSjinfTabJunhyung\"]/a')\n",
    "        #sample = browser.find_element_by_css_select('a')\n",
    "        #tab.send_keys('\\n')\n",
    "        #tab=driver.find_element(By.XPATH, '//*[@id=\"EipSjinfTabJunhyung\"]/a').click()"
   ]
  },
  {
   "cell_type": "code",
   "execution_count": 417,
   "id": "9bd22d3a",
   "metadata": {},
   "outputs": [
    {
     "ename": "NoSuchElementException",
     "evalue": "Message: no such element: Unable to locate element: {\"method\":\"xpath\",\"selector\":\"//*[@id=\"pagination\"]/li[12]/a\"}\n  (Session info: chrome=116.0.5845.180); For documentation on this error, please visit: https://www.selenium.dev/documentation/webdriver/troubleshooting/errors#no-such-element-exception\nStacktrace:\n\tGetHandleVerifier [0x00007FF60F2452A2+57122]\n\t(No symbol) [0x00007FF60F1BEA92]\n\t(No symbol) [0x00007FF60F08E3AB]\n\t(No symbol) [0x00007FF60F0C7D3E]\n\t(No symbol) [0x00007FF60F0C7E2C]\n\t(No symbol) [0x00007FF60F100B67]\n\t(No symbol) [0x00007FF60F0E701F]\n\t(No symbol) [0x00007FF60F0FEB82]\n\t(No symbol) [0x00007FF60F0E6DB3]\n\t(No symbol) [0x00007FF60F0BD2B1]\n\t(No symbol) [0x00007FF60F0BE494]\n\tGetHandleVerifier [0x00007FF60F4EEF82+2849794]\n\tGetHandleVerifier [0x00007FF60F541D24+3189156]\n\tGetHandleVerifier [0x00007FF60F53ACAF+3160367]\n\tGetHandleVerifier [0x00007FF60F2D6D06+653702]\n\t(No symbol) [0x00007FF60F1CA208]\n\t(No symbol) [0x00007FF60F1C62C4]\n\t(No symbol) [0x00007FF60F1C63F6]\n\t(No symbol) [0x00007FF60F1B67A3]\n\tBaseThreadInitThunk [0x00007FF915757614+20]\n\tRtlUserThreadStart [0x00007FF9176A26B1+33]\n",
     "output_type": "error",
     "traceback": [
      "\u001b[1;31m---------------------------------------------------------------------------\u001b[0m",
      "\u001b[1;31mNoSuchElementException\u001b[0m                    Traceback (most recent call last)",
      "\u001b[1;32m~\\AppData\\Local\\Temp\\ipykernel_224756\\3062501204.py\u001b[0m in \u001b[0;36m<module>\u001b[1;34m\u001b[0m\n\u001b[1;32m----> 1\u001b[1;33m \u001b[0mdriver\u001b[0m\u001b[1;33m.\u001b[0m\u001b[0mfind_element\u001b[0m\u001b[1;33m(\u001b[0m\u001b[0mBy\u001b[0m\u001b[1;33m.\u001b[0m\u001b[0mXPATH\u001b[0m\u001b[1;33m,\u001b[0m \u001b[1;34m'//*[@id=\"pagination\"]/li[12]/a'\u001b[0m\u001b[1;33m)\u001b[0m\u001b[1;33m.\u001b[0m\u001b[0mclick\u001b[0m\u001b[1;33m(\u001b[0m\u001b[1;33m)\u001b[0m\u001b[1;33m\u001b[0m\u001b[1;33m\u001b[0m\u001b[0m\n\u001b[0m",
      "\u001b[1;32mD:\\anacondo\\envs\\dev1\\lib\\site-packages\\selenium\\webdriver\\remote\\webdriver.py\u001b[0m in \u001b[0;36mfind_element\u001b[1;34m(self, by, value)\u001b[0m\n\u001b[0;32m    737\u001b[0m             \u001b[0mvalue\u001b[0m \u001b[1;33m=\u001b[0m \u001b[1;34mf'[name=\"{value}\"]'\u001b[0m\u001b[1;33m\u001b[0m\u001b[1;33m\u001b[0m\u001b[0m\n\u001b[0;32m    738\u001b[0m \u001b[1;33m\u001b[0m\u001b[0m\n\u001b[1;32m--> 739\u001b[1;33m         \u001b[1;32mreturn\u001b[0m \u001b[0mself\u001b[0m\u001b[1;33m.\u001b[0m\u001b[0mexecute\u001b[0m\u001b[1;33m(\u001b[0m\u001b[0mCommand\u001b[0m\u001b[1;33m.\u001b[0m\u001b[0mFIND_ELEMENT\u001b[0m\u001b[1;33m,\u001b[0m \u001b[1;33m{\u001b[0m\u001b[1;34m\"using\"\u001b[0m\u001b[1;33m:\u001b[0m \u001b[0mby\u001b[0m\u001b[1;33m,\u001b[0m \u001b[1;34m\"value\"\u001b[0m\u001b[1;33m:\u001b[0m \u001b[0mvalue\u001b[0m\u001b[1;33m}\u001b[0m\u001b[1;33m)\u001b[0m\u001b[1;33m[\u001b[0m\u001b[1;34m\"value\"\u001b[0m\u001b[1;33m]\u001b[0m\u001b[1;33m\u001b[0m\u001b[1;33m\u001b[0m\u001b[0m\n\u001b[0m\u001b[0;32m    740\u001b[0m \u001b[1;33m\u001b[0m\u001b[0m\n\u001b[0;32m    741\u001b[0m     \u001b[1;32mdef\u001b[0m \u001b[0mfind_elements\u001b[0m\u001b[1;33m(\u001b[0m\u001b[0mself\u001b[0m\u001b[1;33m,\u001b[0m \u001b[0mby\u001b[0m\u001b[1;33m=\u001b[0m\u001b[0mBy\u001b[0m\u001b[1;33m.\u001b[0m\u001b[0mID\u001b[0m\u001b[1;33m,\u001b[0m \u001b[0mvalue\u001b[0m\u001b[1;33m:\u001b[0m \u001b[0mOptional\u001b[0m\u001b[1;33m[\u001b[0m\u001b[0mstr\u001b[0m\u001b[1;33m]\u001b[0m \u001b[1;33m=\u001b[0m \u001b[1;32mNone\u001b[0m\u001b[1;33m)\u001b[0m \u001b[1;33m->\u001b[0m \u001b[0mList\u001b[0m\u001b[1;33m[\u001b[0m\u001b[0mWebElement\u001b[0m\u001b[1;33m]\u001b[0m\u001b[1;33m:\u001b[0m\u001b[1;33m\u001b[0m\u001b[1;33m\u001b[0m\u001b[0m\n",
      "\u001b[1;32mD:\\anacondo\\envs\\dev1\\lib\\site-packages\\selenium\\webdriver\\remote\\webdriver.py\u001b[0m in \u001b[0;36mexecute\u001b[1;34m(self, driver_command, params)\u001b[0m\n\u001b[0;32m    343\u001b[0m         \u001b[0mresponse\u001b[0m \u001b[1;33m=\u001b[0m \u001b[0mself\u001b[0m\u001b[1;33m.\u001b[0m\u001b[0mcommand_executor\u001b[0m\u001b[1;33m.\u001b[0m\u001b[0mexecute\u001b[0m\u001b[1;33m(\u001b[0m\u001b[0mdriver_command\u001b[0m\u001b[1;33m,\u001b[0m \u001b[0mparams\u001b[0m\u001b[1;33m)\u001b[0m\u001b[1;33m\u001b[0m\u001b[1;33m\u001b[0m\u001b[0m\n\u001b[0;32m    344\u001b[0m         \u001b[1;32mif\u001b[0m \u001b[0mresponse\u001b[0m\u001b[1;33m:\u001b[0m\u001b[1;33m\u001b[0m\u001b[1;33m\u001b[0m\u001b[0m\n\u001b[1;32m--> 345\u001b[1;33m             \u001b[0mself\u001b[0m\u001b[1;33m.\u001b[0m\u001b[0merror_handler\u001b[0m\u001b[1;33m.\u001b[0m\u001b[0mcheck_response\u001b[0m\u001b[1;33m(\u001b[0m\u001b[0mresponse\u001b[0m\u001b[1;33m)\u001b[0m\u001b[1;33m\u001b[0m\u001b[1;33m\u001b[0m\u001b[0m\n\u001b[0m\u001b[0;32m    346\u001b[0m             \u001b[0mresponse\u001b[0m\u001b[1;33m[\u001b[0m\u001b[1;34m\"value\"\u001b[0m\u001b[1;33m]\u001b[0m \u001b[1;33m=\u001b[0m \u001b[0mself\u001b[0m\u001b[1;33m.\u001b[0m\u001b[0m_unwrap_value\u001b[0m\u001b[1;33m(\u001b[0m\u001b[0mresponse\u001b[0m\u001b[1;33m.\u001b[0m\u001b[0mget\u001b[0m\u001b[1;33m(\u001b[0m\u001b[1;34m\"value\"\u001b[0m\u001b[1;33m,\u001b[0m \u001b[1;32mNone\u001b[0m\u001b[1;33m)\u001b[0m\u001b[1;33m)\u001b[0m\u001b[1;33m\u001b[0m\u001b[1;33m\u001b[0m\u001b[0m\n\u001b[0;32m    347\u001b[0m             \u001b[1;32mreturn\u001b[0m \u001b[0mresponse\u001b[0m\u001b[1;33m\u001b[0m\u001b[1;33m\u001b[0m\u001b[0m\n",
      "\u001b[1;32mD:\\anacondo\\envs\\dev1\\lib\\site-packages\\selenium\\webdriver\\remote\\errorhandler.py\u001b[0m in \u001b[0;36mcheck_response\u001b[1;34m(self, response)\u001b[0m\n\u001b[0;32m    227\u001b[0m                 \u001b[0malert_text\u001b[0m \u001b[1;33m=\u001b[0m \u001b[0mvalue\u001b[0m\u001b[1;33m[\u001b[0m\u001b[1;34m\"alert\"\u001b[0m\u001b[1;33m]\u001b[0m\u001b[1;33m.\u001b[0m\u001b[0mget\u001b[0m\u001b[1;33m(\u001b[0m\u001b[1;34m\"text\"\u001b[0m\u001b[1;33m)\u001b[0m\u001b[1;33m\u001b[0m\u001b[1;33m\u001b[0m\u001b[0m\n\u001b[0;32m    228\u001b[0m             \u001b[1;32mraise\u001b[0m \u001b[0mexception_class\u001b[0m\u001b[1;33m(\u001b[0m\u001b[0mmessage\u001b[0m\u001b[1;33m,\u001b[0m \u001b[0mscreen\u001b[0m\u001b[1;33m,\u001b[0m \u001b[0mstacktrace\u001b[0m\u001b[1;33m,\u001b[0m \u001b[0malert_text\u001b[0m\u001b[1;33m)\u001b[0m  \u001b[1;31m# type: ignore[call-arg]  # mypy is not smart enough here\u001b[0m\u001b[1;33m\u001b[0m\u001b[1;33m\u001b[0m\u001b[0m\n\u001b[1;32m--> 229\u001b[1;33m         \u001b[1;32mraise\u001b[0m \u001b[0mexception_class\u001b[0m\u001b[1;33m(\u001b[0m\u001b[0mmessage\u001b[0m\u001b[1;33m,\u001b[0m \u001b[0mscreen\u001b[0m\u001b[1;33m,\u001b[0m \u001b[0mstacktrace\u001b[0m\u001b[1;33m)\u001b[0m\u001b[1;33m\u001b[0m\u001b[1;33m\u001b[0m\u001b[0m\n\u001b[0m",
      "\u001b[1;31mNoSuchElementException\u001b[0m: Message: no such element: Unable to locate element: {\"method\":\"xpath\",\"selector\":\"//*[@id=\"pagination\"]/li[12]/a\"}\n  (Session info: chrome=116.0.5845.180); For documentation on this error, please visit: https://www.selenium.dev/documentation/webdriver/troubleshooting/errors#no-such-element-exception\nStacktrace:\n\tGetHandleVerifier [0x00007FF60F2452A2+57122]\n\t(No symbol) [0x00007FF60F1BEA92]\n\t(No symbol) [0x00007FF60F08E3AB]\n\t(No symbol) [0x00007FF60F0C7D3E]\n\t(No symbol) [0x00007FF60F0C7E2C]\n\t(No symbol) [0x00007FF60F100B67]\n\t(No symbol) [0x00007FF60F0E701F]\n\t(No symbol) [0x00007FF60F0FEB82]\n\t(No symbol) [0x00007FF60F0E6DB3]\n\t(No symbol) [0x00007FF60F0BD2B1]\n\t(No symbol) [0x00007FF60F0BE494]\n\tGetHandleVerifier [0x00007FF60F4EEF82+2849794]\n\tGetHandleVerifier [0x00007FF60F541D24+3189156]\n\tGetHandleVerifier [0x00007FF60F53ACAF+3160367]\n\tGetHandleVerifier [0x00007FF60F2D6D06+653702]\n\t(No symbol) [0x00007FF60F1CA208]\n\t(No symbol) [0x00007FF60F1C62C4]\n\t(No symbol) [0x00007FF60F1C63F6]\n\t(No symbol) [0x00007FF60F1B67A3]\n\tBaseThreadInitThunk [0x00007FF915757614+20]\n\tRtlUserThreadStart [0x00007FF9176A26B1+33]\n"
     ]
    }
   ],
   "source": [
    "driver.find_element(By.XPATH, '//*[@id=\"pagination\"]/li[12]/a').click()"
   ]
  },
  {
   "cell_type": "code",
   "execution_count": 457,
   "id": "1b7d995f",
   "metadata": {},
   "outputs": [
    {
     "name": "stdout",
     "output_type": "stream",
     "text": [
      "호남대학교 [본교] /광주/4.63/0.44/1,537/(\"0000208\")\n",
      "호남신학대학교 [본교] /광주/0.57/0.36/119/(\"0000209\")\n",
      "호서대학교 [본교] /충남/4.22/4.4/2,881/(\"0000211\")\n",
      "호원대학교 [본교] /전북/7.38/6.61/1,047/(\"0000282\")\n",
      "홍익대학교 [본교] /서울/17.69/11.98/2,421/(\"0000212\")\n",
      "홍익대학교 [제2캠퍼스] /세종/7.56/6.62/1,330/(\"0002949\")\n",
      "화성의과학대학교 [본교] /경기/4.24/1.88/282/(\"0000233\")\n"
     ]
    },
    {
     "ename": "NoSuchElementException",
     "evalue": "Message: no such element: Unable to locate element: {\"method\":\"xpath\",\"selector\":\"//*[@id=\"tbResult\"]/tr[8]/td[1]\"}\n  (Session info: chrome=116.0.5845.180); For documentation on this error, please visit: https://www.selenium.dev/documentation/webdriver/troubleshooting/errors#no-such-element-exception\nStacktrace:\n\tGetHandleVerifier [0x00007FF60F2452A2+57122]\n\t(No symbol) [0x00007FF60F1BEA92]\n\t(No symbol) [0x00007FF60F08E3AB]\n\t(No symbol) [0x00007FF60F0C7D3E]\n\t(No symbol) [0x00007FF60F0C7E2C]\n\t(No symbol) [0x00007FF60F100B67]\n\t(No symbol) [0x00007FF60F0E701F]\n\t(No symbol) [0x00007FF60F0FEB82]\n\t(No symbol) [0x00007FF60F0E6DB3]\n\t(No symbol) [0x00007FF60F0BD2B1]\n\t(No symbol) [0x00007FF60F0BE494]\n\tGetHandleVerifier [0x00007FF60F4EEF82+2849794]\n\tGetHandleVerifier [0x00007FF60F541D24+3189156]\n\tGetHandleVerifier [0x00007FF60F53ACAF+3160367]\n\tGetHandleVerifier [0x00007FF60F2D6D06+653702]\n\t(No symbol) [0x00007FF60F1CA208]\n\t(No symbol) [0x00007FF60F1C62C4]\n\t(No symbol) [0x00007FF60F1C63F6]\n\t(No symbol) [0x00007FF60F1B67A3]\n\tBaseThreadInitThunk [0x00007FF915757614+20]\n\tRtlUserThreadStart [0x00007FF9176A26B1+33]\n",
     "output_type": "error",
     "traceback": [
      "\u001b[1;31m---------------------------------------------------------------------------\u001b[0m",
      "\u001b[1;31mNoSuchElementException\u001b[0m                    Traceback (most recent call last)",
      "\u001b[1;32m~\\AppData\\Local\\Temp\\ipykernel_224756\\3601044147.py\u001b[0m in \u001b[0;36m<module>\u001b[1;34m\u001b[0m\n\u001b[0;32m      3\u001b[0m \u001b[1;32mfor\u001b[0m \u001b[0midx\u001b[0m \u001b[1;32min\u001b[0m \u001b[0mrange\u001b[0m\u001b[1;33m(\u001b[0m\u001b[1;36m1\u001b[0m\u001b[1;33m,\u001b[0m \u001b[1;36m16\u001b[0m\u001b[1;33m)\u001b[0m\u001b[1;33m:\u001b[0m\u001b[1;33m\u001b[0m\u001b[1;33m\u001b[0m\u001b[0m\n\u001b[0;32m      4\u001b[0m     \u001b[0melement\u001b[0m\u001b[1;33m=\u001b[0m\u001b[1;34m'//*[@id=\"tbResult\"]/tr['\u001b[0m\u001b[1;33m+\u001b[0m \u001b[0mstr\u001b[0m\u001b[1;33m(\u001b[0m\u001b[0midx\u001b[0m\u001b[1;33m)\u001b[0m \u001b[1;33m+\u001b[0m\u001b[1;34m']/td['\u001b[0m\u001b[1;33m\u001b[0m\u001b[1;33m\u001b[0m\u001b[0m\n\u001b[1;32m----> 5\u001b[1;33m     \u001b[0mdept_name\u001b[0m \u001b[1;33m=\u001b[0m \u001b[0mdriver\u001b[0m\u001b[1;33m.\u001b[0m\u001b[0mfind_element\u001b[0m\u001b[1;33m(\u001b[0m\u001b[0mBy\u001b[0m\u001b[1;33m.\u001b[0m\u001b[0mXPATH\u001b[0m\u001b[1;33m,\u001b[0m \u001b[0melement\u001b[0m\u001b[1;33m+\u001b[0m \u001b[1;34m'1]'\u001b[0m\u001b[1;33m)\u001b[0m\u001b[1;33m.\u001b[0m\u001b[0mtext\u001b[0m\u001b[1;33m\u001b[0m\u001b[1;33m\u001b[0m\u001b[0m\n\u001b[0m\u001b[0;32m      6\u001b[0m     \u001b[0murl\u001b[0m\u001b[1;33m=\u001b[0m\u001b[0mdriver\u001b[0m\u001b[1;33m.\u001b[0m\u001b[0mfind_element\u001b[0m\u001b[1;33m(\u001b[0m\u001b[0mBy\u001b[0m\u001b[1;33m.\u001b[0m\u001b[0mXPATH\u001b[0m\u001b[1;33m,\u001b[0m \u001b[0melement\u001b[0m\u001b[1;33m+\u001b[0m \u001b[1;34m'1]/a'\u001b[0m\u001b[1;33m)\u001b[0m\u001b[1;33m.\u001b[0m\u001b[0mget_attribute\u001b[0m\u001b[1;33m(\u001b[0m\u001b[1;34m\"href\"\u001b[0m\u001b[1;33m)\u001b[0m\u001b[1;33m\u001b[0m\u001b[1;33m\u001b[0m\u001b[0m\n\u001b[0;32m      7\u001b[0m     \u001b[0mid\u001b[0m \u001b[1;33m=\u001b[0m \u001b[0murl\u001b[0m\u001b[1;33m.\u001b[0m\u001b[0mreplace\u001b[0m\u001b[1;33m(\u001b[0m\u001b[1;34m'javascript:go_set'\u001b[0m\u001b[1;33m,\u001b[0m \u001b[1;34m''\u001b[0m\u001b[1;33m)\u001b[0m\u001b[1;33m\u001b[0m\u001b[1;33m\u001b[0m\u001b[0m\n",
      "\u001b[1;32mD:\\anacondo\\envs\\dev1\\lib\\site-packages\\selenium\\webdriver\\remote\\webdriver.py\u001b[0m in \u001b[0;36mfind_element\u001b[1;34m(self, by, value)\u001b[0m\n\u001b[0;32m    737\u001b[0m             \u001b[0mvalue\u001b[0m \u001b[1;33m=\u001b[0m \u001b[1;34mf'[name=\"{value}\"]'\u001b[0m\u001b[1;33m\u001b[0m\u001b[1;33m\u001b[0m\u001b[0m\n\u001b[0;32m    738\u001b[0m \u001b[1;33m\u001b[0m\u001b[0m\n\u001b[1;32m--> 739\u001b[1;33m         \u001b[1;32mreturn\u001b[0m \u001b[0mself\u001b[0m\u001b[1;33m.\u001b[0m\u001b[0mexecute\u001b[0m\u001b[1;33m(\u001b[0m\u001b[0mCommand\u001b[0m\u001b[1;33m.\u001b[0m\u001b[0mFIND_ELEMENT\u001b[0m\u001b[1;33m,\u001b[0m \u001b[1;33m{\u001b[0m\u001b[1;34m\"using\"\u001b[0m\u001b[1;33m:\u001b[0m \u001b[0mby\u001b[0m\u001b[1;33m,\u001b[0m \u001b[1;34m\"value\"\u001b[0m\u001b[1;33m:\u001b[0m \u001b[0mvalue\u001b[0m\u001b[1;33m}\u001b[0m\u001b[1;33m)\u001b[0m\u001b[1;33m[\u001b[0m\u001b[1;34m\"value\"\u001b[0m\u001b[1;33m]\u001b[0m\u001b[1;33m\u001b[0m\u001b[1;33m\u001b[0m\u001b[0m\n\u001b[0m\u001b[0;32m    740\u001b[0m \u001b[1;33m\u001b[0m\u001b[0m\n\u001b[0;32m    741\u001b[0m     \u001b[1;32mdef\u001b[0m \u001b[0mfind_elements\u001b[0m\u001b[1;33m(\u001b[0m\u001b[0mself\u001b[0m\u001b[1;33m,\u001b[0m \u001b[0mby\u001b[0m\u001b[1;33m=\u001b[0m\u001b[0mBy\u001b[0m\u001b[1;33m.\u001b[0m\u001b[0mID\u001b[0m\u001b[1;33m,\u001b[0m \u001b[0mvalue\u001b[0m\u001b[1;33m:\u001b[0m \u001b[0mOptional\u001b[0m\u001b[1;33m[\u001b[0m\u001b[0mstr\u001b[0m\u001b[1;33m]\u001b[0m \u001b[1;33m=\u001b[0m \u001b[1;32mNone\u001b[0m\u001b[1;33m)\u001b[0m \u001b[1;33m->\u001b[0m \u001b[0mList\u001b[0m\u001b[1;33m[\u001b[0m\u001b[0mWebElement\u001b[0m\u001b[1;33m]\u001b[0m\u001b[1;33m:\u001b[0m\u001b[1;33m\u001b[0m\u001b[1;33m\u001b[0m\u001b[0m\n",
      "\u001b[1;32mD:\\anacondo\\envs\\dev1\\lib\\site-packages\\selenium\\webdriver\\remote\\webdriver.py\u001b[0m in \u001b[0;36mexecute\u001b[1;34m(self, driver_command, params)\u001b[0m\n\u001b[0;32m    343\u001b[0m         \u001b[0mresponse\u001b[0m \u001b[1;33m=\u001b[0m \u001b[0mself\u001b[0m\u001b[1;33m.\u001b[0m\u001b[0mcommand_executor\u001b[0m\u001b[1;33m.\u001b[0m\u001b[0mexecute\u001b[0m\u001b[1;33m(\u001b[0m\u001b[0mdriver_command\u001b[0m\u001b[1;33m,\u001b[0m \u001b[0mparams\u001b[0m\u001b[1;33m)\u001b[0m\u001b[1;33m\u001b[0m\u001b[1;33m\u001b[0m\u001b[0m\n\u001b[0;32m    344\u001b[0m         \u001b[1;32mif\u001b[0m \u001b[0mresponse\u001b[0m\u001b[1;33m:\u001b[0m\u001b[1;33m\u001b[0m\u001b[1;33m\u001b[0m\u001b[0m\n\u001b[1;32m--> 345\u001b[1;33m             \u001b[0mself\u001b[0m\u001b[1;33m.\u001b[0m\u001b[0merror_handler\u001b[0m\u001b[1;33m.\u001b[0m\u001b[0mcheck_response\u001b[0m\u001b[1;33m(\u001b[0m\u001b[0mresponse\u001b[0m\u001b[1;33m)\u001b[0m\u001b[1;33m\u001b[0m\u001b[1;33m\u001b[0m\u001b[0m\n\u001b[0m\u001b[0;32m    346\u001b[0m             \u001b[0mresponse\u001b[0m\u001b[1;33m[\u001b[0m\u001b[1;34m\"value\"\u001b[0m\u001b[1;33m]\u001b[0m \u001b[1;33m=\u001b[0m \u001b[0mself\u001b[0m\u001b[1;33m.\u001b[0m\u001b[0m_unwrap_value\u001b[0m\u001b[1;33m(\u001b[0m\u001b[0mresponse\u001b[0m\u001b[1;33m.\u001b[0m\u001b[0mget\u001b[0m\u001b[1;33m(\u001b[0m\u001b[1;34m\"value\"\u001b[0m\u001b[1;33m,\u001b[0m \u001b[1;32mNone\u001b[0m\u001b[1;33m)\u001b[0m\u001b[1;33m)\u001b[0m\u001b[1;33m\u001b[0m\u001b[1;33m\u001b[0m\u001b[0m\n\u001b[0;32m    347\u001b[0m             \u001b[1;32mreturn\u001b[0m \u001b[0mresponse\u001b[0m\u001b[1;33m\u001b[0m\u001b[1;33m\u001b[0m\u001b[0m\n",
      "\u001b[1;32mD:\\anacondo\\envs\\dev1\\lib\\site-packages\\selenium\\webdriver\\remote\\errorhandler.py\u001b[0m in \u001b[0;36mcheck_response\u001b[1;34m(self, response)\u001b[0m\n\u001b[0;32m    227\u001b[0m                 \u001b[0malert_text\u001b[0m \u001b[1;33m=\u001b[0m \u001b[0mvalue\u001b[0m\u001b[1;33m[\u001b[0m\u001b[1;34m\"alert\"\u001b[0m\u001b[1;33m]\u001b[0m\u001b[1;33m.\u001b[0m\u001b[0mget\u001b[0m\u001b[1;33m(\u001b[0m\u001b[1;34m\"text\"\u001b[0m\u001b[1;33m)\u001b[0m\u001b[1;33m\u001b[0m\u001b[1;33m\u001b[0m\u001b[0m\n\u001b[0;32m    228\u001b[0m             \u001b[1;32mraise\u001b[0m \u001b[0mexception_class\u001b[0m\u001b[1;33m(\u001b[0m\u001b[0mmessage\u001b[0m\u001b[1;33m,\u001b[0m \u001b[0mscreen\u001b[0m\u001b[1;33m,\u001b[0m \u001b[0mstacktrace\u001b[0m\u001b[1;33m,\u001b[0m \u001b[0malert_text\u001b[0m\u001b[1;33m)\u001b[0m  \u001b[1;31m# type: ignore[call-arg]  # mypy is not smart enough here\u001b[0m\u001b[1;33m\u001b[0m\u001b[1;33m\u001b[0m\u001b[0m\n\u001b[1;32m--> 229\u001b[1;33m         \u001b[1;32mraise\u001b[0m \u001b[0mexception_class\u001b[0m\u001b[1;33m(\u001b[0m\u001b[0mmessage\u001b[0m\u001b[1;33m,\u001b[0m \u001b[0mscreen\u001b[0m\u001b[1;33m,\u001b[0m \u001b[0mstacktrace\u001b[0m\u001b[1;33m)\u001b[0m\u001b[1;33m\u001b[0m\u001b[1;33m\u001b[0m\u001b[0m\n\u001b[0m",
      "\u001b[1;31mNoSuchElementException\u001b[0m: Message: no such element: Unable to locate element: {\"method\":\"xpath\",\"selector\":\"//*[@id=\"tbResult\"]/tr[8]/td[1]\"}\n  (Session info: chrome=116.0.5845.180); For documentation on this error, please visit: https://www.selenium.dev/documentation/webdriver/troubleshooting/errors#no-such-element-exception\nStacktrace:\n\tGetHandleVerifier [0x00007FF60F2452A2+57122]\n\t(No symbol) [0x00007FF60F1BEA92]\n\t(No symbol) [0x00007FF60F08E3AB]\n\t(No symbol) [0x00007FF60F0C7D3E]\n\t(No symbol) [0x00007FF60F0C7E2C]\n\t(No symbol) [0x00007FF60F100B67]\n\t(No symbol) [0x00007FF60F0E701F]\n\t(No symbol) [0x00007FF60F0FEB82]\n\t(No symbol) [0x00007FF60F0E6DB3]\n\t(No symbol) [0x00007FF60F0BD2B1]\n\t(No symbol) [0x00007FF60F0BE494]\n\tGetHandleVerifier [0x00007FF60F4EEF82+2849794]\n\tGetHandleVerifier [0x00007FF60F541D24+3189156]\n\tGetHandleVerifier [0x00007FF60F53ACAF+3160367]\n\tGetHandleVerifier [0x00007FF60F2D6D06+653702]\n\t(No symbol) [0x00007FF60F1CA208]\n\t(No symbol) [0x00007FF60F1C62C4]\n\t(No symbol) [0x00007FF60F1C63F6]\n\t(No symbol) [0x00007FF60F1B67A3]\n\tBaseThreadInitThunk [0x00007FF915757614+20]\n\tRtlUserThreadStart [0x00007FF9176A26B1+33]\n"
     ]
    }
   ],
   "source": [
    "#driver.find_element(By.XPATH, '//*[@id=\"pagination\"]/li[8]/a').click()\n",
    "idx=0\n",
    "for idx in range(1, 16):\n",
    "    element='//*[@id=\"tbResult\"]/tr['+ str(idx) +']/td['    \n",
    "    dept_name = driver.find_element(By.XPATH, element+ '1]').text \n",
    "    url=driver.find_element(By.XPATH, element+ '1]/a').get_attribute(\"href\")\n",
    "    id = url.replace('javascript:go_set', '')\n",
    "    univ_name = driver.find_element(By.XPATH, element+'2]').text   \n",
    "    ent_cnt = driver.find_element(By.XPATH, element+'3]').text     \n",
    "    compe_susi = driver.find_element(By.XPATH, element+'4]').text     \n",
    "    compe_junsi = driver.find_element(By.XPATH, element+'5]').text\n",
    "    \n",
    "    print(dept_name +' /' + univ_name + '/' +ent_cnt + '/' + compe_susi +'/' + compe_junsi+'/' + id)"
   ]
  },
  {
   "cell_type": "code",
   "execution_count": 438,
   "id": "383336eb",
   "metadata": {},
   "outputs": [
    {
     "ename": "NoSuchElementException",
     "evalue": "Message: no such element: Unable to locate element: {\"method\":\"css selector\",\"selector\":\"#lst_lgcl_D > a\"}\n  (Session info: chrome=116.0.5845.180); For documentation on this error, please visit: https://www.selenium.dev/documentation/webdriver/troubleshooting/errors#no-such-element-exception\nStacktrace:\n\tGetHandleVerifier [0x00007FF60F2452A2+57122]\n\t(No symbol) [0x00007FF60F1BEA92]\n\t(No symbol) [0x00007FF60F08E3AB]\n\t(No symbol) [0x00007FF60F0C7D3E]\n\t(No symbol) [0x00007FF60F0C7E2C]\n\t(No symbol) [0x00007FF60F100B67]\n\t(No symbol) [0x00007FF60F0E701F]\n\t(No symbol) [0x00007FF60F0FEB82]\n\t(No symbol) [0x00007FF60F0E6DB3]\n\t(No symbol) [0x00007FF60F0BD2B1]\n\t(No symbol) [0x00007FF60F0BE494]\n\tGetHandleVerifier [0x00007FF60F4EEF82+2849794]\n\tGetHandleVerifier [0x00007FF60F541D24+3189156]\n\tGetHandleVerifier [0x00007FF60F53ACAF+3160367]\n\tGetHandleVerifier [0x00007FF60F2D6D06+653702]\n\t(No symbol) [0x00007FF60F1CA208]\n\t(No symbol) [0x00007FF60F1C62C4]\n\t(No symbol) [0x00007FF60F1C63F6]\n\t(No symbol) [0x00007FF60F1B67A3]\n\tBaseThreadInitThunk [0x00007FF915757614+20]\n\tRtlUserThreadStart [0x00007FF9176A26B1+33]\n",
     "output_type": "error",
     "traceback": [
      "\u001b[1;31m---------------------------------------------------------------------------\u001b[0m",
      "\u001b[1;31mNoSuchElementException\u001b[0m                    Traceback (most recent call last)",
      "\u001b[1;32m~\\AppData\\Local\\Temp\\ipykernel_224756\\1231794875.py\u001b[0m in \u001b[0;36m<module>\u001b[1;34m\u001b[0m\n\u001b[0;32m      1\u001b[0m \u001b[1;31m#공학계열\u001b[0m\u001b[1;33m\u001b[0m\u001b[1;33m\u001b[0m\u001b[1;33m\u001b[0m\u001b[0m\n\u001b[1;32m----> 2\u001b[1;33m \u001b[0mdept_group_btn\u001b[0m \u001b[1;33m=\u001b[0m \u001b[0mdriver\u001b[0m\u001b[1;33m.\u001b[0m\u001b[0mfind_element\u001b[0m\u001b[1;33m(\u001b[0m\u001b[0mBy\u001b[0m\u001b[1;33m.\u001b[0m\u001b[0mCSS_SELECTOR\u001b[0m\u001b[1;33m,\u001b[0m \u001b[1;34m\"#lst_lgcl_D > a\"\u001b[0m\u001b[1;33m)\u001b[0m\u001b[1;33m.\u001b[0m\u001b[0mclick\u001b[0m\u001b[1;33m(\u001b[0m\u001b[1;33m)\u001b[0m\u001b[1;33m\u001b[0m\u001b[1;33m\u001b[0m\u001b[0m\n\u001b[0m\u001b[0;32m      3\u001b[0m \u001b[0msearchall\u001b[0m \u001b[1;33m=\u001b[0m \u001b[0mdriver\u001b[0m\u001b[1;33m.\u001b[0m\u001b[0mfind_element\u001b[0m\u001b[1;33m(\u001b[0m\u001b[0mBy\u001b[0m\u001b[1;33m.\u001b[0m\u001b[0mCSS_SELECTOR\u001b[0m\u001b[1;33m,\u001b[0m \u001b[1;34m\"#tbsersDetail > tr:nth-child(1) > td > a\"\u001b[0m\u001b[1;33m)\u001b[0m\u001b[1;33m.\u001b[0m\u001b[0mclick\u001b[0m\u001b[1;33m(\u001b[0m\u001b[1;33m)\u001b[0m\u001b[1;33m\u001b[0m\u001b[1;33m\u001b[0m\u001b[0m\n",
      "\u001b[1;32mD:\\anacondo\\envs\\dev1\\lib\\site-packages\\selenium\\webdriver\\remote\\webdriver.py\u001b[0m in \u001b[0;36mfind_element\u001b[1;34m(self, by, value)\u001b[0m\n\u001b[0;32m    737\u001b[0m             \u001b[0mvalue\u001b[0m \u001b[1;33m=\u001b[0m \u001b[1;34mf'[name=\"{value}\"]'\u001b[0m\u001b[1;33m\u001b[0m\u001b[1;33m\u001b[0m\u001b[0m\n\u001b[0;32m    738\u001b[0m \u001b[1;33m\u001b[0m\u001b[0m\n\u001b[1;32m--> 739\u001b[1;33m         \u001b[1;32mreturn\u001b[0m \u001b[0mself\u001b[0m\u001b[1;33m.\u001b[0m\u001b[0mexecute\u001b[0m\u001b[1;33m(\u001b[0m\u001b[0mCommand\u001b[0m\u001b[1;33m.\u001b[0m\u001b[0mFIND_ELEMENT\u001b[0m\u001b[1;33m,\u001b[0m \u001b[1;33m{\u001b[0m\u001b[1;34m\"using\"\u001b[0m\u001b[1;33m:\u001b[0m \u001b[0mby\u001b[0m\u001b[1;33m,\u001b[0m \u001b[1;34m\"value\"\u001b[0m\u001b[1;33m:\u001b[0m \u001b[0mvalue\u001b[0m\u001b[1;33m}\u001b[0m\u001b[1;33m)\u001b[0m\u001b[1;33m[\u001b[0m\u001b[1;34m\"value\"\u001b[0m\u001b[1;33m]\u001b[0m\u001b[1;33m\u001b[0m\u001b[1;33m\u001b[0m\u001b[0m\n\u001b[0m\u001b[0;32m    740\u001b[0m \u001b[1;33m\u001b[0m\u001b[0m\n\u001b[0;32m    741\u001b[0m     \u001b[1;32mdef\u001b[0m \u001b[0mfind_elements\u001b[0m\u001b[1;33m(\u001b[0m\u001b[0mself\u001b[0m\u001b[1;33m,\u001b[0m \u001b[0mby\u001b[0m\u001b[1;33m=\u001b[0m\u001b[0mBy\u001b[0m\u001b[1;33m.\u001b[0m\u001b[0mID\u001b[0m\u001b[1;33m,\u001b[0m \u001b[0mvalue\u001b[0m\u001b[1;33m:\u001b[0m \u001b[0mOptional\u001b[0m\u001b[1;33m[\u001b[0m\u001b[0mstr\u001b[0m\u001b[1;33m]\u001b[0m \u001b[1;33m=\u001b[0m \u001b[1;32mNone\u001b[0m\u001b[1;33m)\u001b[0m \u001b[1;33m->\u001b[0m \u001b[0mList\u001b[0m\u001b[1;33m[\u001b[0m\u001b[0mWebElement\u001b[0m\u001b[1;33m]\u001b[0m\u001b[1;33m:\u001b[0m\u001b[1;33m\u001b[0m\u001b[1;33m\u001b[0m\u001b[0m\n",
      "\u001b[1;32mD:\\anacondo\\envs\\dev1\\lib\\site-packages\\selenium\\webdriver\\remote\\webdriver.py\u001b[0m in \u001b[0;36mexecute\u001b[1;34m(self, driver_command, params)\u001b[0m\n\u001b[0;32m    343\u001b[0m         \u001b[0mresponse\u001b[0m \u001b[1;33m=\u001b[0m \u001b[0mself\u001b[0m\u001b[1;33m.\u001b[0m\u001b[0mcommand_executor\u001b[0m\u001b[1;33m.\u001b[0m\u001b[0mexecute\u001b[0m\u001b[1;33m(\u001b[0m\u001b[0mdriver_command\u001b[0m\u001b[1;33m,\u001b[0m \u001b[0mparams\u001b[0m\u001b[1;33m)\u001b[0m\u001b[1;33m\u001b[0m\u001b[1;33m\u001b[0m\u001b[0m\n\u001b[0;32m    344\u001b[0m         \u001b[1;32mif\u001b[0m \u001b[0mresponse\u001b[0m\u001b[1;33m:\u001b[0m\u001b[1;33m\u001b[0m\u001b[1;33m\u001b[0m\u001b[0m\n\u001b[1;32m--> 345\u001b[1;33m             \u001b[0mself\u001b[0m\u001b[1;33m.\u001b[0m\u001b[0merror_handler\u001b[0m\u001b[1;33m.\u001b[0m\u001b[0mcheck_response\u001b[0m\u001b[1;33m(\u001b[0m\u001b[0mresponse\u001b[0m\u001b[1;33m)\u001b[0m\u001b[1;33m\u001b[0m\u001b[1;33m\u001b[0m\u001b[0m\n\u001b[0m\u001b[0;32m    346\u001b[0m             \u001b[0mresponse\u001b[0m\u001b[1;33m[\u001b[0m\u001b[1;34m\"value\"\u001b[0m\u001b[1;33m]\u001b[0m \u001b[1;33m=\u001b[0m \u001b[0mself\u001b[0m\u001b[1;33m.\u001b[0m\u001b[0m_unwrap_value\u001b[0m\u001b[1;33m(\u001b[0m\u001b[0mresponse\u001b[0m\u001b[1;33m.\u001b[0m\u001b[0mget\u001b[0m\u001b[1;33m(\u001b[0m\u001b[1;34m\"value\"\u001b[0m\u001b[1;33m,\u001b[0m \u001b[1;32mNone\u001b[0m\u001b[1;33m)\u001b[0m\u001b[1;33m)\u001b[0m\u001b[1;33m\u001b[0m\u001b[1;33m\u001b[0m\u001b[0m\n\u001b[0;32m    347\u001b[0m             \u001b[1;32mreturn\u001b[0m \u001b[0mresponse\u001b[0m\u001b[1;33m\u001b[0m\u001b[1;33m\u001b[0m\u001b[0m\n",
      "\u001b[1;32mD:\\anacondo\\envs\\dev1\\lib\\site-packages\\selenium\\webdriver\\remote\\errorhandler.py\u001b[0m in \u001b[0;36mcheck_response\u001b[1;34m(self, response)\u001b[0m\n\u001b[0;32m    227\u001b[0m                 \u001b[0malert_text\u001b[0m \u001b[1;33m=\u001b[0m \u001b[0mvalue\u001b[0m\u001b[1;33m[\u001b[0m\u001b[1;34m\"alert\"\u001b[0m\u001b[1;33m]\u001b[0m\u001b[1;33m.\u001b[0m\u001b[0mget\u001b[0m\u001b[1;33m(\u001b[0m\u001b[1;34m\"text\"\u001b[0m\u001b[1;33m)\u001b[0m\u001b[1;33m\u001b[0m\u001b[1;33m\u001b[0m\u001b[0m\n\u001b[0;32m    228\u001b[0m             \u001b[1;32mraise\u001b[0m \u001b[0mexception_class\u001b[0m\u001b[1;33m(\u001b[0m\u001b[0mmessage\u001b[0m\u001b[1;33m,\u001b[0m \u001b[0mscreen\u001b[0m\u001b[1;33m,\u001b[0m \u001b[0mstacktrace\u001b[0m\u001b[1;33m,\u001b[0m \u001b[0malert_text\u001b[0m\u001b[1;33m)\u001b[0m  \u001b[1;31m# type: ignore[call-arg]  # mypy is not smart enough here\u001b[0m\u001b[1;33m\u001b[0m\u001b[1;33m\u001b[0m\u001b[0m\n\u001b[1;32m--> 229\u001b[1;33m         \u001b[1;32mraise\u001b[0m \u001b[0mexception_class\u001b[0m\u001b[1;33m(\u001b[0m\u001b[0mmessage\u001b[0m\u001b[1;33m,\u001b[0m \u001b[0mscreen\u001b[0m\u001b[1;33m,\u001b[0m \u001b[0mstacktrace\u001b[0m\u001b[1;33m)\u001b[0m\u001b[1;33m\u001b[0m\u001b[1;33m\u001b[0m\u001b[0m\n\u001b[0m",
      "\u001b[1;31mNoSuchElementException\u001b[0m: Message: no such element: Unable to locate element: {\"method\":\"css selector\",\"selector\":\"#lst_lgcl_D > a\"}\n  (Session info: chrome=116.0.5845.180); For documentation on this error, please visit: https://www.selenium.dev/documentation/webdriver/troubleshooting/errors#no-such-element-exception\nStacktrace:\n\tGetHandleVerifier [0x00007FF60F2452A2+57122]\n\t(No symbol) [0x00007FF60F1BEA92]\n\t(No symbol) [0x00007FF60F08E3AB]\n\t(No symbol) [0x00007FF60F0C7D3E]\n\t(No symbol) [0x00007FF60F0C7E2C]\n\t(No symbol) [0x00007FF60F100B67]\n\t(No symbol) [0x00007FF60F0E701F]\n\t(No symbol) [0x00007FF60F0FEB82]\n\t(No symbol) [0x00007FF60F0E6DB3]\n\t(No symbol) [0x00007FF60F0BD2B1]\n\t(No symbol) [0x00007FF60F0BE494]\n\tGetHandleVerifier [0x00007FF60F4EEF82+2849794]\n\tGetHandleVerifier [0x00007FF60F541D24+3189156]\n\tGetHandleVerifier [0x00007FF60F53ACAF+3160367]\n\tGetHandleVerifier [0x00007FF60F2D6D06+653702]\n\t(No symbol) [0x00007FF60F1CA208]\n\t(No symbol) [0x00007FF60F1C62C4]\n\t(No symbol) [0x00007FF60F1C63F6]\n\t(No symbol) [0x00007FF60F1B67A3]\n\tBaseThreadInitThunk [0x00007FF915757614+20]\n\tRtlUserThreadStart [0x00007FF9176A26B1+33]\n"
     ]
    }
   ],
   "source": [
    "#공학계열\n",
    "dept_group_btn = driver.find_element(By.CSS_SELECTOR, \"#lst_lgcl_D > a\").click()\n",
    "searchall = driver.find_element(By.CSS_SELECTOR, \"#tbsersDetail > tr:nth-child(1) > td > a\").click()\n"
   ]
  },
  {
   "cell_type": "code",
   "execution_count": 439,
   "id": "88c2f095",
   "metadata": {},
   "outputs": [
    {
     "name": "stdout",
     "output_type": "stream",
     "text": [
      "217\n"
     ]
    }
   ],
   "source": [
    "cnt = driver.find_element(By.ID,\"totalCountOrg\").text\n",
    "print(cnt)"
   ]
  },
  {
   "cell_type": "code",
   "execution_count": 442,
   "id": "16ea95e6",
   "metadata": {},
   "outputs": [
    {
     "name": "stdout",
     "output_type": "stream",
     "text": [
      "대신대학교 [본교] /경북/1.76/1.59/116\n",
      "대전가톨릭대학교 [본교] /세종/0.15/0.22/40\n",
      "대전대학교 [본교] /대전/5.89/3.05/1,812\n",
      "대전신학대학교 [본교] /대전/0.36/0.04/32\n",
      "대진대학교 [본교] /경기/7.31/6.43/1,703\n",
      "덕성여자대학교 [본교] /서울/18.32/6.57/1,175\n",
      "동국대학교 [본교] /서울/25.57/5.08/2,823\n",
      "동국대학교(WISE) [분교] /경북/4.78/4.93/1,754\n",
      "동덕여자대학교 [본교] /서울/13.42/9.17/1,577\n",
      "동명대학교 [본교] /부산/4.63/1.22/1,459\n",
      "동서대학교 [본교] /부산/5.02/1.49/2,094\n",
      "동신대학교 [본교] /전남/3.16/0.91/1,459\n",
      "동아대학교 [본교] /부산/6.36/5.06/4,058\n",
      "동양대학교 [본교] /경북/3.12/2.05/1,010\n",
      "동의대학교 [본교] /부산/4.49/2.47/3,594\n"
     ]
    },
    {
     "ename": "NoSuchElementException",
     "evalue": "Message: no such element: Unable to locate element: {\"method\":\"xpath\",\"selector\":\"//*[@id=\"tbResult\"]/tr[16]/td[1]\"}\n  (Session info: chrome=116.0.5845.180); For documentation on this error, please visit: https://www.selenium.dev/documentation/webdriver/troubleshooting/errors#no-such-element-exception\nStacktrace:\n\tGetHandleVerifier [0x00007FF60F2452A2+57122]\n\t(No symbol) [0x00007FF60F1BEA92]\n\t(No symbol) [0x00007FF60F08E3AB]\n\t(No symbol) [0x00007FF60F0C7D3E]\n\t(No symbol) [0x00007FF60F0C7E2C]\n\t(No symbol) [0x00007FF60F100B67]\n\t(No symbol) [0x00007FF60F0E701F]\n\t(No symbol) [0x00007FF60F0FEB82]\n\t(No symbol) [0x00007FF60F0E6DB3]\n\t(No symbol) [0x00007FF60F0BD2B1]\n\t(No symbol) [0x00007FF60F0BE494]\n\tGetHandleVerifier [0x00007FF60F4EEF82+2849794]\n\tGetHandleVerifier [0x00007FF60F541D24+3189156]\n\tGetHandleVerifier [0x00007FF60F53ACAF+3160367]\n\tGetHandleVerifier [0x00007FF60F2D6D06+653702]\n\t(No symbol) [0x00007FF60F1CA208]\n\t(No symbol) [0x00007FF60F1C62C4]\n\t(No symbol) [0x00007FF60F1C63F6]\n\t(No symbol) [0x00007FF60F1B67A3]\n\tBaseThreadInitThunk [0x00007FF915757614+20]\n\tRtlUserThreadStart [0x00007FF9176A26B1+33]\n",
     "output_type": "error",
     "traceback": [
      "\u001b[1;31m---------------------------------------------------------------------------\u001b[0m",
      "\u001b[1;31mNoSuchElementException\u001b[0m                    Traceback (most recent call last)",
      "\u001b[1;32m~\\AppData\\Local\\Temp\\ipykernel_224756\\3712554579.py\u001b[0m in \u001b[0;36m<module>\u001b[1;34m\u001b[0m\n\u001b[0;32m      3\u001b[0m \u001b[1;32mfor\u001b[0m \u001b[0midx\u001b[0m \u001b[1;32min\u001b[0m \u001b[0mrange\u001b[0m\u001b[1;33m(\u001b[0m\u001b[1;36m1\u001b[0m\u001b[1;33m,\u001b[0m \u001b[0mint\u001b[0m\u001b[1;33m(\u001b[0m\u001b[0mcnt\u001b[0m\u001b[1;33m)\u001b[0m\u001b[1;33m+\u001b[0m\u001b[1;36m1\u001b[0m\u001b[1;33m)\u001b[0m\u001b[1;33m:\u001b[0m\u001b[1;33m\u001b[0m\u001b[1;33m\u001b[0m\u001b[0m\n\u001b[0;32m      4\u001b[0m     \u001b[0melement\u001b[0m\u001b[1;33m=\u001b[0m\u001b[1;34m'//*[@id=\"tbResult\"]/tr['\u001b[0m\u001b[1;33m+\u001b[0m \u001b[0mstr\u001b[0m\u001b[1;33m(\u001b[0m\u001b[0midx\u001b[0m\u001b[1;33m)\u001b[0m \u001b[1;33m+\u001b[0m\u001b[1;34m']/td['\u001b[0m\u001b[1;33m\u001b[0m\u001b[1;33m\u001b[0m\u001b[0m\n\u001b[1;32m----> 5\u001b[1;33m     \u001b[0mdept_name\u001b[0m \u001b[1;33m=\u001b[0m \u001b[0mdriver\u001b[0m\u001b[1;33m.\u001b[0m\u001b[0mfind_element\u001b[0m\u001b[1;33m(\u001b[0m\u001b[0mBy\u001b[0m\u001b[1;33m.\u001b[0m\u001b[0mXPATH\u001b[0m\u001b[1;33m,\u001b[0m \u001b[0melement\u001b[0m\u001b[1;33m+\u001b[0m \u001b[1;34m'1]'\u001b[0m\u001b[1;33m)\u001b[0m\u001b[1;33m.\u001b[0m\u001b[0mtext\u001b[0m\u001b[1;33m\u001b[0m\u001b[1;33m\u001b[0m\u001b[0m\n\u001b[0m\u001b[0;32m      6\u001b[0m     \u001b[0muniv_name\u001b[0m \u001b[1;33m=\u001b[0m \u001b[0mdriver\u001b[0m\u001b[1;33m.\u001b[0m\u001b[0mfind_element\u001b[0m\u001b[1;33m(\u001b[0m\u001b[0mBy\u001b[0m\u001b[1;33m.\u001b[0m\u001b[0mXPATH\u001b[0m\u001b[1;33m,\u001b[0m \u001b[0melement\u001b[0m\u001b[1;33m+\u001b[0m\u001b[1;34m'2]'\u001b[0m\u001b[1;33m)\u001b[0m\u001b[1;33m.\u001b[0m\u001b[0mtext\u001b[0m\u001b[1;33m\u001b[0m\u001b[1;33m\u001b[0m\u001b[0m\n\u001b[0;32m      7\u001b[0m     \u001b[0ment_cnt\u001b[0m \u001b[1;33m=\u001b[0m \u001b[0mdriver\u001b[0m\u001b[1;33m.\u001b[0m\u001b[0mfind_element\u001b[0m\u001b[1;33m(\u001b[0m\u001b[0mBy\u001b[0m\u001b[1;33m.\u001b[0m\u001b[0mXPATH\u001b[0m\u001b[1;33m,\u001b[0m \u001b[0melement\u001b[0m\u001b[1;33m+\u001b[0m\u001b[1;34m'3]'\u001b[0m\u001b[1;33m)\u001b[0m\u001b[1;33m.\u001b[0m\u001b[0mtext\u001b[0m\u001b[1;33m\u001b[0m\u001b[1;33m\u001b[0m\u001b[0m\n",
      "\u001b[1;32mD:\\anacondo\\envs\\dev1\\lib\\site-packages\\selenium\\webdriver\\remote\\webdriver.py\u001b[0m in \u001b[0;36mfind_element\u001b[1;34m(self, by, value)\u001b[0m\n\u001b[0;32m    737\u001b[0m             \u001b[0mvalue\u001b[0m \u001b[1;33m=\u001b[0m \u001b[1;34mf'[name=\"{value}\"]'\u001b[0m\u001b[1;33m\u001b[0m\u001b[1;33m\u001b[0m\u001b[0m\n\u001b[0;32m    738\u001b[0m \u001b[1;33m\u001b[0m\u001b[0m\n\u001b[1;32m--> 739\u001b[1;33m         \u001b[1;32mreturn\u001b[0m \u001b[0mself\u001b[0m\u001b[1;33m.\u001b[0m\u001b[0mexecute\u001b[0m\u001b[1;33m(\u001b[0m\u001b[0mCommand\u001b[0m\u001b[1;33m.\u001b[0m\u001b[0mFIND_ELEMENT\u001b[0m\u001b[1;33m,\u001b[0m \u001b[1;33m{\u001b[0m\u001b[1;34m\"using\"\u001b[0m\u001b[1;33m:\u001b[0m \u001b[0mby\u001b[0m\u001b[1;33m,\u001b[0m \u001b[1;34m\"value\"\u001b[0m\u001b[1;33m:\u001b[0m \u001b[0mvalue\u001b[0m\u001b[1;33m}\u001b[0m\u001b[1;33m)\u001b[0m\u001b[1;33m[\u001b[0m\u001b[1;34m\"value\"\u001b[0m\u001b[1;33m]\u001b[0m\u001b[1;33m\u001b[0m\u001b[1;33m\u001b[0m\u001b[0m\n\u001b[0m\u001b[0;32m    740\u001b[0m \u001b[1;33m\u001b[0m\u001b[0m\n\u001b[0;32m    741\u001b[0m     \u001b[1;32mdef\u001b[0m \u001b[0mfind_elements\u001b[0m\u001b[1;33m(\u001b[0m\u001b[0mself\u001b[0m\u001b[1;33m,\u001b[0m \u001b[0mby\u001b[0m\u001b[1;33m=\u001b[0m\u001b[0mBy\u001b[0m\u001b[1;33m.\u001b[0m\u001b[0mID\u001b[0m\u001b[1;33m,\u001b[0m \u001b[0mvalue\u001b[0m\u001b[1;33m:\u001b[0m \u001b[0mOptional\u001b[0m\u001b[1;33m[\u001b[0m\u001b[0mstr\u001b[0m\u001b[1;33m]\u001b[0m \u001b[1;33m=\u001b[0m \u001b[1;32mNone\u001b[0m\u001b[1;33m)\u001b[0m \u001b[1;33m->\u001b[0m \u001b[0mList\u001b[0m\u001b[1;33m[\u001b[0m\u001b[0mWebElement\u001b[0m\u001b[1;33m]\u001b[0m\u001b[1;33m:\u001b[0m\u001b[1;33m\u001b[0m\u001b[1;33m\u001b[0m\u001b[0m\n",
      "\u001b[1;32mD:\\anacondo\\envs\\dev1\\lib\\site-packages\\selenium\\webdriver\\remote\\webdriver.py\u001b[0m in \u001b[0;36mexecute\u001b[1;34m(self, driver_command, params)\u001b[0m\n\u001b[0;32m    343\u001b[0m         \u001b[0mresponse\u001b[0m \u001b[1;33m=\u001b[0m \u001b[0mself\u001b[0m\u001b[1;33m.\u001b[0m\u001b[0mcommand_executor\u001b[0m\u001b[1;33m.\u001b[0m\u001b[0mexecute\u001b[0m\u001b[1;33m(\u001b[0m\u001b[0mdriver_command\u001b[0m\u001b[1;33m,\u001b[0m \u001b[0mparams\u001b[0m\u001b[1;33m)\u001b[0m\u001b[1;33m\u001b[0m\u001b[1;33m\u001b[0m\u001b[0m\n\u001b[0;32m    344\u001b[0m         \u001b[1;32mif\u001b[0m \u001b[0mresponse\u001b[0m\u001b[1;33m:\u001b[0m\u001b[1;33m\u001b[0m\u001b[1;33m\u001b[0m\u001b[0m\n\u001b[1;32m--> 345\u001b[1;33m             \u001b[0mself\u001b[0m\u001b[1;33m.\u001b[0m\u001b[0merror_handler\u001b[0m\u001b[1;33m.\u001b[0m\u001b[0mcheck_response\u001b[0m\u001b[1;33m(\u001b[0m\u001b[0mresponse\u001b[0m\u001b[1;33m)\u001b[0m\u001b[1;33m\u001b[0m\u001b[1;33m\u001b[0m\u001b[0m\n\u001b[0m\u001b[0;32m    346\u001b[0m             \u001b[0mresponse\u001b[0m\u001b[1;33m[\u001b[0m\u001b[1;34m\"value\"\u001b[0m\u001b[1;33m]\u001b[0m \u001b[1;33m=\u001b[0m \u001b[0mself\u001b[0m\u001b[1;33m.\u001b[0m\u001b[0m_unwrap_value\u001b[0m\u001b[1;33m(\u001b[0m\u001b[0mresponse\u001b[0m\u001b[1;33m.\u001b[0m\u001b[0mget\u001b[0m\u001b[1;33m(\u001b[0m\u001b[1;34m\"value\"\u001b[0m\u001b[1;33m,\u001b[0m \u001b[1;32mNone\u001b[0m\u001b[1;33m)\u001b[0m\u001b[1;33m)\u001b[0m\u001b[1;33m\u001b[0m\u001b[1;33m\u001b[0m\u001b[0m\n\u001b[0;32m    347\u001b[0m             \u001b[1;32mreturn\u001b[0m \u001b[0mresponse\u001b[0m\u001b[1;33m\u001b[0m\u001b[1;33m\u001b[0m\u001b[0m\n",
      "\u001b[1;32mD:\\anacondo\\envs\\dev1\\lib\\site-packages\\selenium\\webdriver\\remote\\errorhandler.py\u001b[0m in \u001b[0;36mcheck_response\u001b[1;34m(self, response)\u001b[0m\n\u001b[0;32m    227\u001b[0m                 \u001b[0malert_text\u001b[0m \u001b[1;33m=\u001b[0m \u001b[0mvalue\u001b[0m\u001b[1;33m[\u001b[0m\u001b[1;34m\"alert\"\u001b[0m\u001b[1;33m]\u001b[0m\u001b[1;33m.\u001b[0m\u001b[0mget\u001b[0m\u001b[1;33m(\u001b[0m\u001b[1;34m\"text\"\u001b[0m\u001b[1;33m)\u001b[0m\u001b[1;33m\u001b[0m\u001b[1;33m\u001b[0m\u001b[0m\n\u001b[0;32m    228\u001b[0m             \u001b[1;32mraise\u001b[0m \u001b[0mexception_class\u001b[0m\u001b[1;33m(\u001b[0m\u001b[0mmessage\u001b[0m\u001b[1;33m,\u001b[0m \u001b[0mscreen\u001b[0m\u001b[1;33m,\u001b[0m \u001b[0mstacktrace\u001b[0m\u001b[1;33m,\u001b[0m \u001b[0malert_text\u001b[0m\u001b[1;33m)\u001b[0m  \u001b[1;31m# type: ignore[call-arg]  # mypy is not smart enough here\u001b[0m\u001b[1;33m\u001b[0m\u001b[1;33m\u001b[0m\u001b[0m\n\u001b[1;32m--> 229\u001b[1;33m         \u001b[1;32mraise\u001b[0m \u001b[0mexception_class\u001b[0m\u001b[1;33m(\u001b[0m\u001b[0mmessage\u001b[0m\u001b[1;33m,\u001b[0m \u001b[0mscreen\u001b[0m\u001b[1;33m,\u001b[0m \u001b[0mstacktrace\u001b[0m\u001b[1;33m)\u001b[0m\u001b[1;33m\u001b[0m\u001b[1;33m\u001b[0m\u001b[0m\n\u001b[0m",
      "\u001b[1;31mNoSuchElementException\u001b[0m: Message: no such element: Unable to locate element: {\"method\":\"xpath\",\"selector\":\"//*[@id=\"tbResult\"]/tr[16]/td[1]\"}\n  (Session info: chrome=116.0.5845.180); For documentation on this error, please visit: https://www.selenium.dev/documentation/webdriver/troubleshooting/errors#no-such-element-exception\nStacktrace:\n\tGetHandleVerifier [0x00007FF60F2452A2+57122]\n\t(No symbol) [0x00007FF60F1BEA92]\n\t(No symbol) [0x00007FF60F08E3AB]\n\t(No symbol) [0x00007FF60F0C7D3E]\n\t(No symbol) [0x00007FF60F0C7E2C]\n\t(No symbol) [0x00007FF60F100B67]\n\t(No symbol) [0x00007FF60F0E701F]\n\t(No symbol) [0x00007FF60F0FEB82]\n\t(No symbol) [0x00007FF60F0E6DB3]\n\t(No symbol) [0x00007FF60F0BD2B1]\n\t(No symbol) [0x00007FF60F0BE494]\n\tGetHandleVerifier [0x00007FF60F4EEF82+2849794]\n\tGetHandleVerifier [0x00007FF60F541D24+3189156]\n\tGetHandleVerifier [0x00007FF60F53ACAF+3160367]\n\tGetHandleVerifier [0x00007FF60F2D6D06+653702]\n\t(No symbol) [0x00007FF60F1CA208]\n\t(No symbol) [0x00007FF60F1C62C4]\n\t(No symbol) [0x00007FF60F1C63F6]\n\t(No symbol) [0x00007FF60F1B67A3]\n\tBaseThreadInitThunk [0x00007FF915757614+20]\n\tRtlUserThreadStart [0x00007FF9176A26B1+33]\n"
     ]
    }
   ],
   "source": [
    "#print('학과/대학/지역/입학정원/수시경쟁율/정시경쟁율')\n",
    "\n",
    "for idx in range(1, int(cnt)+1):\n",
    "    element='//*[@id=\"tbResult\"]/tr['+ str(idx) +']/td['\n",
    "    dept_name = driver.find_element(By.XPATH, element+ '1]').text   \n",
    "    univ_name = driver.find_element(By.XPATH, element+'2]').text   \n",
    "    ent_cnt = driver.find_element(By.XPATH, element+'3]').text     \n",
    "    compe_susi = driver.find_element(By.XPATH, element+'4]').text     \n",
    "    compe_junsi = driver.find_element(By.XPATH, element+'5]').text   \n",
    "    print(dept_name +' /' + univ_name + '/' +ent_cnt + '/' + compe_susi +'/' + compe_junsi)\n"
   ]
  },
  {
   "cell_type": "code",
   "execution_count": 319,
   "id": "ce55e351",
   "metadata": {},
   "outputs": [
    {
     "name": "stdout",
     "output_type": "stream",
     "text": [
      "41\n"
     ]
    }
   ],
   "source": [
    "#의학계열\n",
    "dept_group_btn = driver.find_element(By.CSS_SELECTOR, \"#lst_lgcl_E > a\").click()\n",
    "searchall = driver.find_element(By.CSS_SELECTOR, \"#tbsersDetail > tr:nth-child(1) > td > a\").click()\n",
    "cnt = driver.find_element(By.ID,\"totalCountOrg\").text\n",
    "print(cnt)\n",
    "\n"
   ]
  },
  {
   "cell_type": "code",
   "execution_count": 320,
   "id": "bb29a842",
   "metadata": {},
   "outputs": [
    {
     "name": "stdout",
     "output_type": "stream",
     "text": [
      "학과/대학/지역/입학정원/수시경쟁율/정시경쟁율\n"
     ]
    },
    {
     "ename": "NoSuchElementException",
     "evalue": "Message: no such element: Unable to locate element: {\"method\":\"xpath\",\"selector\":\"//*[@id=\"tbResult\"]/tr[1]/td[2]\"}\n  (Session info: chrome=116.0.5845.180); For documentation on this error, please visit: https://www.selenium.dev/documentation/webdriver/troubleshooting/errors#no-such-element-exception\nStacktrace:\n\tGetHandleVerifier [0x00007FF60F2452A2+57122]\n\t(No symbol) [0x00007FF60F1BEA92]\n\t(No symbol) [0x00007FF60F08E3AB]\n\t(No symbol) [0x00007FF60F0C7D3E]\n\t(No symbol) [0x00007FF60F0C7E2C]\n\t(No symbol) [0x00007FF60F100B67]\n\t(No symbol) [0x00007FF60F0E701F]\n\t(No symbol) [0x00007FF60F0FEB82]\n\t(No symbol) [0x00007FF60F0E6DB3]\n\t(No symbol) [0x00007FF60F0BD2B1]\n\t(No symbol) [0x00007FF60F0BE494]\n\tGetHandleVerifier [0x00007FF60F4EEF82+2849794]\n\tGetHandleVerifier [0x00007FF60F541D24+3189156]\n\tGetHandleVerifier [0x00007FF60F53ACAF+3160367]\n\tGetHandleVerifier [0x00007FF60F2D6D06+653702]\n\t(No symbol) [0x00007FF60F1CA208]\n\t(No symbol) [0x00007FF60F1C62C4]\n\t(No symbol) [0x00007FF60F1C63F6]\n\t(No symbol) [0x00007FF60F1B67A3]\n\tBaseThreadInitThunk [0x00007FF915757614+20]\n\tRtlUserThreadStart [0x00007FF9176A26B1+33]\n",
     "output_type": "error",
     "traceback": [
      "\u001b[1;31m---------------------------------------------------------------------------\u001b[0m",
      "\u001b[1;31mNoSuchElementException\u001b[0m                    Traceback (most recent call last)",
      "\u001b[1;32m~\\AppData\\Local\\Temp\\ipykernel_224756\\166171147.py\u001b[0m in \u001b[0;36m<module>\u001b[1;34m\u001b[0m\n\u001b[0;32m      4\u001b[0m     \u001b[0melement\u001b[0m\u001b[1;33m=\u001b[0m\u001b[1;34m'//*[@id=\"tbResult\"]/tr['\u001b[0m\u001b[1;33m+\u001b[0m \u001b[0mstr\u001b[0m\u001b[1;33m(\u001b[0m\u001b[0midx\u001b[0m\u001b[1;33m)\u001b[0m \u001b[1;33m+\u001b[0m\u001b[1;34m']/td['\u001b[0m\u001b[1;33m\u001b[0m\u001b[1;33m\u001b[0m\u001b[0m\n\u001b[0;32m      5\u001b[0m     \u001b[0mdept_name\u001b[0m \u001b[1;33m=\u001b[0m \u001b[0mdriver\u001b[0m\u001b[1;33m.\u001b[0m\u001b[0mfind_element\u001b[0m\u001b[1;33m(\u001b[0m\u001b[0mBy\u001b[0m\u001b[1;33m.\u001b[0m\u001b[0mXPATH\u001b[0m\u001b[1;33m,\u001b[0m \u001b[0melement\u001b[0m\u001b[1;33m+\u001b[0m \u001b[1;34m'1]'\u001b[0m\u001b[1;33m)\u001b[0m\u001b[1;33m.\u001b[0m\u001b[0mtext\u001b[0m\u001b[1;33m\u001b[0m\u001b[1;33m\u001b[0m\u001b[0m\n\u001b[1;32m----> 6\u001b[1;33m     \u001b[0muniv_name\u001b[0m \u001b[1;33m=\u001b[0m \u001b[0mdriver\u001b[0m\u001b[1;33m.\u001b[0m\u001b[0mfind_element\u001b[0m\u001b[1;33m(\u001b[0m\u001b[0mBy\u001b[0m\u001b[1;33m.\u001b[0m\u001b[0mXPATH\u001b[0m\u001b[1;33m,\u001b[0m \u001b[0melement\u001b[0m\u001b[1;33m+\u001b[0m\u001b[1;34m'2]'\u001b[0m\u001b[1;33m)\u001b[0m\u001b[1;33m.\u001b[0m\u001b[0mtext\u001b[0m\u001b[1;33m\u001b[0m\u001b[1;33m\u001b[0m\u001b[0m\n\u001b[0m\u001b[0;32m      7\u001b[0m     \u001b[0ment_cnt\u001b[0m \u001b[1;33m=\u001b[0m \u001b[0mdriver\u001b[0m\u001b[1;33m.\u001b[0m\u001b[0mfind_element\u001b[0m\u001b[1;33m(\u001b[0m\u001b[0mBy\u001b[0m\u001b[1;33m.\u001b[0m\u001b[0mXPATH\u001b[0m\u001b[1;33m,\u001b[0m \u001b[0melement\u001b[0m\u001b[1;33m+\u001b[0m\u001b[1;34m'3]'\u001b[0m\u001b[1;33m)\u001b[0m\u001b[1;33m.\u001b[0m\u001b[0mtext\u001b[0m\u001b[1;33m\u001b[0m\u001b[1;33m\u001b[0m\u001b[0m\n\u001b[0;32m      8\u001b[0m     \u001b[0mcompe_susi\u001b[0m \u001b[1;33m=\u001b[0m \u001b[0mdriver\u001b[0m\u001b[1;33m.\u001b[0m\u001b[0mfind_element\u001b[0m\u001b[1;33m(\u001b[0m\u001b[0mBy\u001b[0m\u001b[1;33m.\u001b[0m\u001b[0mXPATH\u001b[0m\u001b[1;33m,\u001b[0m \u001b[0melement\u001b[0m\u001b[1;33m+\u001b[0m\u001b[1;34m'4]'\u001b[0m\u001b[1;33m)\u001b[0m\u001b[1;33m.\u001b[0m\u001b[0mtext\u001b[0m\u001b[1;33m\u001b[0m\u001b[1;33m\u001b[0m\u001b[0m\n",
      "\u001b[1;32mD:\\anacondo\\envs\\dev1\\lib\\site-packages\\selenium\\webdriver\\remote\\webdriver.py\u001b[0m in \u001b[0;36mfind_element\u001b[1;34m(self, by, value)\u001b[0m\n\u001b[0;32m    737\u001b[0m             \u001b[0mvalue\u001b[0m \u001b[1;33m=\u001b[0m \u001b[1;34mf'[name=\"{value}\"]'\u001b[0m\u001b[1;33m\u001b[0m\u001b[1;33m\u001b[0m\u001b[0m\n\u001b[0;32m    738\u001b[0m \u001b[1;33m\u001b[0m\u001b[0m\n\u001b[1;32m--> 739\u001b[1;33m         \u001b[1;32mreturn\u001b[0m \u001b[0mself\u001b[0m\u001b[1;33m.\u001b[0m\u001b[0mexecute\u001b[0m\u001b[1;33m(\u001b[0m\u001b[0mCommand\u001b[0m\u001b[1;33m.\u001b[0m\u001b[0mFIND_ELEMENT\u001b[0m\u001b[1;33m,\u001b[0m \u001b[1;33m{\u001b[0m\u001b[1;34m\"using\"\u001b[0m\u001b[1;33m:\u001b[0m \u001b[0mby\u001b[0m\u001b[1;33m,\u001b[0m \u001b[1;34m\"value\"\u001b[0m\u001b[1;33m:\u001b[0m \u001b[0mvalue\u001b[0m\u001b[1;33m}\u001b[0m\u001b[1;33m)\u001b[0m\u001b[1;33m[\u001b[0m\u001b[1;34m\"value\"\u001b[0m\u001b[1;33m]\u001b[0m\u001b[1;33m\u001b[0m\u001b[1;33m\u001b[0m\u001b[0m\n\u001b[0m\u001b[0;32m    740\u001b[0m \u001b[1;33m\u001b[0m\u001b[0m\n\u001b[0;32m    741\u001b[0m     \u001b[1;32mdef\u001b[0m \u001b[0mfind_elements\u001b[0m\u001b[1;33m(\u001b[0m\u001b[0mself\u001b[0m\u001b[1;33m,\u001b[0m \u001b[0mby\u001b[0m\u001b[1;33m=\u001b[0m\u001b[0mBy\u001b[0m\u001b[1;33m.\u001b[0m\u001b[0mID\u001b[0m\u001b[1;33m,\u001b[0m \u001b[0mvalue\u001b[0m\u001b[1;33m:\u001b[0m \u001b[0mOptional\u001b[0m\u001b[1;33m[\u001b[0m\u001b[0mstr\u001b[0m\u001b[1;33m]\u001b[0m \u001b[1;33m=\u001b[0m \u001b[1;32mNone\u001b[0m\u001b[1;33m)\u001b[0m \u001b[1;33m->\u001b[0m \u001b[0mList\u001b[0m\u001b[1;33m[\u001b[0m\u001b[0mWebElement\u001b[0m\u001b[1;33m]\u001b[0m\u001b[1;33m:\u001b[0m\u001b[1;33m\u001b[0m\u001b[1;33m\u001b[0m\u001b[0m\n",
      "\u001b[1;32mD:\\anacondo\\envs\\dev1\\lib\\site-packages\\selenium\\webdriver\\remote\\webdriver.py\u001b[0m in \u001b[0;36mexecute\u001b[1;34m(self, driver_command, params)\u001b[0m\n\u001b[0;32m    343\u001b[0m         \u001b[0mresponse\u001b[0m \u001b[1;33m=\u001b[0m \u001b[0mself\u001b[0m\u001b[1;33m.\u001b[0m\u001b[0mcommand_executor\u001b[0m\u001b[1;33m.\u001b[0m\u001b[0mexecute\u001b[0m\u001b[1;33m(\u001b[0m\u001b[0mdriver_command\u001b[0m\u001b[1;33m,\u001b[0m \u001b[0mparams\u001b[0m\u001b[1;33m)\u001b[0m\u001b[1;33m\u001b[0m\u001b[1;33m\u001b[0m\u001b[0m\n\u001b[0;32m    344\u001b[0m         \u001b[1;32mif\u001b[0m \u001b[0mresponse\u001b[0m\u001b[1;33m:\u001b[0m\u001b[1;33m\u001b[0m\u001b[1;33m\u001b[0m\u001b[0m\n\u001b[1;32m--> 345\u001b[1;33m             \u001b[0mself\u001b[0m\u001b[1;33m.\u001b[0m\u001b[0merror_handler\u001b[0m\u001b[1;33m.\u001b[0m\u001b[0mcheck_response\u001b[0m\u001b[1;33m(\u001b[0m\u001b[0mresponse\u001b[0m\u001b[1;33m)\u001b[0m\u001b[1;33m\u001b[0m\u001b[1;33m\u001b[0m\u001b[0m\n\u001b[0m\u001b[0;32m    346\u001b[0m             \u001b[0mresponse\u001b[0m\u001b[1;33m[\u001b[0m\u001b[1;34m\"value\"\u001b[0m\u001b[1;33m]\u001b[0m \u001b[1;33m=\u001b[0m \u001b[0mself\u001b[0m\u001b[1;33m.\u001b[0m\u001b[0m_unwrap_value\u001b[0m\u001b[1;33m(\u001b[0m\u001b[0mresponse\u001b[0m\u001b[1;33m.\u001b[0m\u001b[0mget\u001b[0m\u001b[1;33m(\u001b[0m\u001b[1;34m\"value\"\u001b[0m\u001b[1;33m,\u001b[0m \u001b[1;32mNone\u001b[0m\u001b[1;33m)\u001b[0m\u001b[1;33m)\u001b[0m\u001b[1;33m\u001b[0m\u001b[1;33m\u001b[0m\u001b[0m\n\u001b[0;32m    347\u001b[0m             \u001b[1;32mreturn\u001b[0m \u001b[0mresponse\u001b[0m\u001b[1;33m\u001b[0m\u001b[1;33m\u001b[0m\u001b[0m\n",
      "\u001b[1;32mD:\\anacondo\\envs\\dev1\\lib\\site-packages\\selenium\\webdriver\\remote\\errorhandler.py\u001b[0m in \u001b[0;36mcheck_response\u001b[1;34m(self, response)\u001b[0m\n\u001b[0;32m    227\u001b[0m                 \u001b[0malert_text\u001b[0m \u001b[1;33m=\u001b[0m \u001b[0mvalue\u001b[0m\u001b[1;33m[\u001b[0m\u001b[1;34m\"alert\"\u001b[0m\u001b[1;33m]\u001b[0m\u001b[1;33m.\u001b[0m\u001b[0mget\u001b[0m\u001b[1;33m(\u001b[0m\u001b[1;34m\"text\"\u001b[0m\u001b[1;33m)\u001b[0m\u001b[1;33m\u001b[0m\u001b[1;33m\u001b[0m\u001b[0m\n\u001b[0;32m    228\u001b[0m             \u001b[1;32mraise\u001b[0m \u001b[0mexception_class\u001b[0m\u001b[1;33m(\u001b[0m\u001b[0mmessage\u001b[0m\u001b[1;33m,\u001b[0m \u001b[0mscreen\u001b[0m\u001b[1;33m,\u001b[0m \u001b[0mstacktrace\u001b[0m\u001b[1;33m,\u001b[0m \u001b[0malert_text\u001b[0m\u001b[1;33m)\u001b[0m  \u001b[1;31m# type: ignore[call-arg]  # mypy is not smart enough here\u001b[0m\u001b[1;33m\u001b[0m\u001b[1;33m\u001b[0m\u001b[0m\n\u001b[1;32m--> 229\u001b[1;33m         \u001b[1;32mraise\u001b[0m \u001b[0mexception_class\u001b[0m\u001b[1;33m(\u001b[0m\u001b[0mmessage\u001b[0m\u001b[1;33m,\u001b[0m \u001b[0mscreen\u001b[0m\u001b[1;33m,\u001b[0m \u001b[0mstacktrace\u001b[0m\u001b[1;33m)\u001b[0m\u001b[1;33m\u001b[0m\u001b[1;33m\u001b[0m\u001b[0m\n\u001b[0m",
      "\u001b[1;31mNoSuchElementException\u001b[0m: Message: no such element: Unable to locate element: {\"method\":\"xpath\",\"selector\":\"//*[@id=\"tbResult\"]/tr[1]/td[2]\"}\n  (Session info: chrome=116.0.5845.180); For documentation on this error, please visit: https://www.selenium.dev/documentation/webdriver/troubleshooting/errors#no-such-element-exception\nStacktrace:\n\tGetHandleVerifier [0x00007FF60F2452A2+57122]\n\t(No symbol) [0x00007FF60F1BEA92]\n\t(No symbol) [0x00007FF60F08E3AB]\n\t(No symbol) [0x00007FF60F0C7D3E]\n\t(No symbol) [0x00007FF60F0C7E2C]\n\t(No symbol) [0x00007FF60F100B67]\n\t(No symbol) [0x00007FF60F0E701F]\n\t(No symbol) [0x00007FF60F0FEB82]\n\t(No symbol) [0x00007FF60F0E6DB3]\n\t(No symbol) [0x00007FF60F0BD2B1]\n\t(No symbol) [0x00007FF60F0BE494]\n\tGetHandleVerifier [0x00007FF60F4EEF82+2849794]\n\tGetHandleVerifier [0x00007FF60F541D24+3189156]\n\tGetHandleVerifier [0x00007FF60F53ACAF+3160367]\n\tGetHandleVerifier [0x00007FF60F2D6D06+653702]\n\t(No symbol) [0x00007FF60F1CA208]\n\t(No symbol) [0x00007FF60F1C62C4]\n\t(No symbol) [0x00007FF60F1C63F6]\n\t(No symbol) [0x00007FF60F1B67A3]\n\tBaseThreadInitThunk [0x00007FF915757614+20]\n\tRtlUserThreadStart [0x00007FF9176A26B1+33]\n"
     ]
    }
   ],
   "source": [
    "print('학과/대학/지역/입학정원/수시경쟁율/정시경쟁율')\n",
    "\n",
    "for idx in range(1, int(cnt)+1):\n",
    "    element='//*[@id=\"tbResult\"]/tr['+ str(idx) +']/td['\n",
    "    dept_name = driver.find_element(By.XPATH, element+ '1]').text   \n",
    "    univ_name = driver.find_element(By.XPATH, element+'2]').text   \n",
    "    ent_cnt = driver.find_element(By.XPATH, element+'3]').text     \n",
    "    compe_susi = driver.find_element(By.XPATH, element+'4]').text     \n",
    "    compe_junsi = driver.find_element(By.XPATH, element+'5]').text   \n",
    "    print(dept_name +' /' + univ_name + '/' +ent_cnt + '/' + compe_susi +'/' + compe_junsi)"
   ]
  },
  {
   "cell_type": "code",
   "execution_count": null,
   "id": "34478e72",
   "metadata": {},
   "outputs": [],
   "source": []
  },
  {
   "cell_type": "code",
   "execution_count": null,
   "id": "847a8094",
   "metadata": {},
   "outputs": [],
   "source": []
  }
 ],
 "metadata": {
  "kernelspec": {
   "display_name": "Python 3 (ipykernel)",
   "language": "python",
   "name": "python3"
  },
  "language_info": {
   "codemirror_mode": {
    "name": "ipython",
    "version": 3
   },
   "file_extension": ".py",
   "mimetype": "text/x-python",
   "name": "python",
   "nbconvert_exporter": "python",
   "pygments_lexer": "ipython3",
   "version": "3.7.16"
  }
 },
 "nbformat": 4,
 "nbformat_minor": 5
}
