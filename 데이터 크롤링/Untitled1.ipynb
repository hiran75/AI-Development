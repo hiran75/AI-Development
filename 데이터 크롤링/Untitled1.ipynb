{
 "cells": [
  {
   "cell_type": "code",
   "execution_count": 1,
   "id": "100529ad",
   "metadata": {},
   "outputs": [
    {
     "ename": "TypeError",
     "evalue": "__init__() got an unexpected keyword argument 'executable_path'",
     "output_type": "error",
     "traceback": [
      "\u001b[1;31m---------------------------------------------------------------------------\u001b[0m",
      "\u001b[1;31mTypeError\u001b[0m                                 Traceback (most recent call last)",
      "\u001b[1;32m~\\AppData\\Local\\Temp\\ipykernel_221748\\466019704.py\u001b[0m in \u001b[0;36m<module>\u001b[1;34m\u001b[0m\n\u001b[0;32m      4\u001b[0m \u001b[1;31m# 웹 드라이버 경로 설정 (Chrome 드라이버 다운로드 필요)\u001b[0m\u001b[1;33m\u001b[0m\u001b[1;33m\u001b[0m\u001b[1;33m\u001b[0m\u001b[0m\n\u001b[0;32m      5\u001b[0m \u001b[0mdriver_path\u001b[0m \u001b[1;33m=\u001b[0m \u001b[1;34m\"경로/크롬드라이버.exe\"\u001b[0m\u001b[1;33m\u001b[0m\u001b[1;33m\u001b[0m\u001b[0m\n\u001b[1;32m----> 6\u001b[1;33m \u001b[0mdriver\u001b[0m \u001b[1;33m=\u001b[0m \u001b[0mwebdriver\u001b[0m\u001b[1;33m.\u001b[0m\u001b[0mChrome\u001b[0m\u001b[1;33m(\u001b[0m\u001b[0mexecutable_path\u001b[0m\u001b[1;33m=\u001b[0m\u001b[0mdriver_path\u001b[0m\u001b[1;33m)\u001b[0m\u001b[1;33m\u001b[0m\u001b[1;33m\u001b[0m\u001b[0m\n\u001b[0m\u001b[0;32m      7\u001b[0m \u001b[1;33m\u001b[0m\u001b[0m\n\u001b[0;32m      8\u001b[0m \u001b[1;31m# 웹 페이지 열기\u001b[0m\u001b[1;33m\u001b[0m\u001b[1;33m\u001b[0m\u001b[1;33m\u001b[0m\u001b[0m\n",
      "\u001b[1;31mTypeError\u001b[0m: __init__() got an unexpected keyword argument 'executable_path'"
     ]
    }
   ],
   "source": [
    "from selenium import webdriver\n",
    "from bs4 import BeautifulSoup\n",
    "\n",
    "# 웹 드라이버 경로 설정 (Chrome 드라이버 다운로드 필요)\n",
    "driver_path = \"경로/크롬드라이버.exe\"\n",
    "driver = webdriver.Chrome(executable_path=driver_path)\n",
    "\n",
    "# 웹 페이지 열기\n",
    "driver.get(\"로그인 페이지 URL\")\n",
    "\n",
    "# 로그인 정보 입력\n",
    "username = driver.find_element_by_id(\"username_input_id\")\n",
    "password = driver.find_element_by_id(\"password_input_id\")\n",
    "\n",
    "username.send_keys(\"사용자명\")\n",
    "password.send_keys(\"비밀번호\")\n",
    "\n",
    "# 로그인 버튼 클릭\n",
    "login_button = driver.find_element_by_id(\"login_button_id\")\n",
    "login_button.click()\n",
    "\n",
    "# 페이지 로딩을 기다릴 수 있는 코드 추가 (예: time.sleep())\n",
    "\n",
    "# 로그인 후 페이지의 HTML 가져오기\n",
    "page_content = driver.page_source\n",
    "\n",
    "# BeautifulSoup을 사용하여 파싱\n",
    "soup = BeautifulSoup(page_content, 'html.parser')\n",
    "\n",
    "# 원하는 데이터 추출 예시:\n",
    "# 페이지에서 원하는 요소를 찾아서 데이터 추출\n",
    "# 예를 들어, 타이틀 텍스트 추출\n",
    "title = soup.find('title').text\n",
    "\n",
    "# 데이터를 딕셔너리 또는 리스트 등으로 저장할 수 있음\n",
    "data = {\n",
    "    'title': title,\n",
    "    # 다른 필요한 데이터도 추가 가능\n",
    "}\n",
    "\n",
    "# 데이터 활용 또는 저장 등을 수행\n",
    "print(soup)\n",
    "\n",
    "# 브라우저 닫기\n",
    "driver.quit()\n"
   ]
  },
  {
   "cell_type": "code",
   "execution_count": null,
   "id": "170763bc",
   "metadata": {},
   "outputs": [],
   "source": []
  }
 ],
 "metadata": {
  "kernelspec": {
   "display_name": "Python 3 (ipykernel)",
   "language": "python",
   "name": "python3"
  },
  "language_info": {
   "codemirror_mode": {
    "name": "ipython",
    "version": 3
   },
   "file_extension": ".py",
   "mimetype": "text/x-python",
   "name": "python",
   "nbconvert_exporter": "python",
   "pygments_lexer": "ipython3",
   "version": "3.7.16"
  }
 },
 "nbformat": 4,
 "nbformat_minor": 5
}
