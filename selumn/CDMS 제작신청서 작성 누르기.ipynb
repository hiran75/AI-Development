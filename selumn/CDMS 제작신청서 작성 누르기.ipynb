{
 "cells": [
  {
   "cell_type": "code",
   "execution_count": 70,
   "id": "213ab007",
   "metadata": {
    "scrolled": true
   },
   "outputs": [],
   "source": [
    "from selenium import webdriver\n",
    "from selenium.webdriver.common.keys import Keys\n",
    "from selenium.webdriver.support.ui import WebDriverWait\n",
    "from selenium.webdriver.support import expected_conditions as EC\n",
    "from selenium.webdriver.common.by import By\n"
   ]
  },
  {
   "cell_type": "code",
   "execution_count": 72,
   "id": "35c31860",
   "metadata": {},
   "outputs": [],
   "source": [
    "driver = webdriver.Chrome()  # or choose the appropriate WebDriver for your browser\n",
    "#driver.get('https://isls.sjcu.ac.kr/common/login?uid=lmsadmin&pwd=dev!8048&tester=true')  # replace with the URL of the website you want to log in to\n",
    "\n",
    "\n",
    "driver.get('http://222.109.212.22:8081/commontest/com-login-test')"
   ]
  },
  {
   "cell_type": "code",
   "execution_count": 3,
   "id": "eb593d78",
   "metadata": {},
   "outputs": [],
   "source": [
    "# input_element = driver.find_element(by='id', value='si_no')   # replace with the actual ID of the username input field]\n",
    "# wait = WebDriverWait(driver, 1)\n",
    "# submit_button = wait.until(EC.visibility_of_element_located((By.CSS_SELECTOR, '.btn_s.black')))\n",
    "# input_element.send_keys('lmsadmind')\n",
    "# submit_button.click()"
   ]
  },
  {
   "cell_type": "code",
   "execution_count": 10,
   "id": "c082f308",
   "metadata": {},
   "outputs": [],
   "source": [
    "driver.get('https://isls.sjcu.ac.kr/tvMngt/surv/index.do')  # "
   ]
  },
  {
   "cell_type": "code",
   "execution_count": 13,
   "id": "c03c0190",
   "metadata": {},
   "outputs": [],
   "source": [
    "driver.get('https://moodle.sjcu.ac.kr/local/siteadmin/cdms/planManage.php?univType=0&year=2023&term=2S&major=&applyType=&createtype=2&perPage=20&createlec=0&lecname=0&leccode=0')  # "
   ]
  },
  {
   "cell_type": "code",
   "execution_count": 73,
   "id": "0391fd47",
   "metadata": {},
   "outputs": [
    {
     "name": "stdout",
     "output_type": "stream",
     "text": [
      "\n",
      "                         작성                                                  \n"
     ]
    }
   ],
   "source": [
    "    driver.get('https://sjcumoodle.sjcu.ac.kr/local/siteadmin/cdms/planManage.php?univType=0&year=2023&term=2S&major=&applyType=&createtype=2')\n",
    "\n",
    "    path='//*[@id=\"contents\"]/div[1]/table/tbody/tr[9]/td[15]/a'\n",
    "    element = driver.find_element(By.XPATH, path) \n",
    "    text =element.get_attribute('innerHTML')\n",
    "    print(text)\n",
    "    element.click()\n",
    "\n",
    "    element2 = driver.find_element(By.XPATH, '//*[@id=\"Popsave\"]') \n",
    "    element2.click()"
   ]
  },
  {
   "cell_type": "code",
   "execution_count": 90,
   "id": "8a9de328",
   "metadata": {},
   "outputs": [
    {
     "name": "stdout",
     "output_type": "stream",
     "text": [
      "//*[@id=\"contents\"]/div[1]/table/tbody/tr[1]/td[15]/a\n",
      "//*[@id=\"contents\"]/div[1]/table/tbody/tr[2]/td[15]/a\n",
      "//*[@id=\"contents\"]/div[1]/table/tbody/tr[3]/td[15]/a\n",
      "//*[@id=\"contents\"]/div[1]/table/tbody/tr[4]/td[15]/a\n",
      "//*[@id=\"contents\"]/div[1]/table/tbody/tr[5]/td[15]/a\n",
      "//*[@id=\"contents\"]/div[1]/table/tbody/tr[6]/td[15]/a\n",
      "//*[@id=\"contents\"]/div[1]/table/tbody/tr[7]/td[15]/a\n",
      "//*[@id=\"contents\"]/div[1]/table/tbody/tr[8]/td[15]/a\n",
      "//*[@id=\"contents\"]/div[1]/table/tbody/tr[9]/td[15]/a\n",
      "//*[@id=\"contents\"]/div[1]/table/tbody/tr[10]/td[15]/a\n"
     ]
    }
   ],
   "source": [
    "from selenium.webdriver.common.alert import Alert\n",
    "from selenium.webdriver.support.ui import WebDriverWait\n",
    "\n",
    "for number in range(1,11):\n",
    "    driver.get('https://sjcumoodle.sjcu.ac.kr/local/siteadmin/cdms/planManage.php?univType=0&year=2023&term=2S&createtype=2&page=1&major=&applyType=&perPage=10&confirmstatus=0')\n",
    "\n",
    "    path='//*[@id=\"contents\"]/div[1]/table/tbody/tr['+ str(number) +']/td[15]/a'\n",
    "    print(path)\n",
    "    wait = WebDriverWait(driver, 60)  \n",
    "    element = driver.find_element(By.XPATH, path)    \n",
    "    text_value = element.text\n",
    "    if text_value == '작성':\n",
    "        element.click()  # Perform the click action on the element\n",
    "        wait = WebDriverWait(driver, 60)  \n",
    "        element2 = driver.find_element(By.XPATH, '//*[@id=\"Popsave\"]')\n",
    "        element2.click()"
   ]
  },
  {
   "cell_type": "code",
   "execution_count": 101,
   "id": "1a9903c9",
   "metadata": {},
   "outputs": [],
   "source": []
  },
  {
   "cell_type": "code",
   "execution_count": null,
   "id": "c4a1efb5",
   "metadata": {},
   "outputs": [],
   "source": []
  }
 ],
 "metadata": {
  "kernelspec": {
   "display_name": "Python 3 (ipykernel)",
   "language": "python",
   "name": "python3"
  },
  "language_info": {
   "codemirror_mode": {
    "name": "ipython",
    "version": 3
   },
   "file_extension": ".py",
   "mimetype": "text/x-python",
   "name": "python",
   "nbconvert_exporter": "python",
   "pygments_lexer": "ipython3",
   "version": "3.11.3"
  }
 },
 "nbformat": 4,
 "nbformat_minor": 5
}
